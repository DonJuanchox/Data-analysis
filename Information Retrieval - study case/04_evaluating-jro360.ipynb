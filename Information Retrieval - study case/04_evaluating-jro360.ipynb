{
 "cells": [
  {
   "cell_type": "markdown",
   "metadata": {},
   "source": [
    "# Assignment 4: Evaluating Search Engines"
   ]
  },
  {
   "cell_type": "markdown",
   "metadata": {},
   "source": [
    "For this assignment, we leave aside the code we developed so far, and look into the more general issue of how to evaluate and compare different search engines. The ultimate test for any Information Retrieval system is how well it is able to satisfy the information needs of users."
   ]
  },
  {
   "cell_type": "markdown",
   "metadata": {},
   "source": [
    "# Cohen's Kappa"
   ]
  },
  {
   "cell_type": "markdown",
   "metadata": {},
   "source": [
    "Our evaluation will involve the calculation of [Cohen's kappa](https://en.wikipedia.org/wiki/Cohen's_kappa) to quantify the degree to which two human assessors agree or disagree on whether results are considered relevant or not. To calculate Cohen's kappa, we are going to use the [scikit-learn library](http://scikit-learn.org/stable/):"
   ]
  },
  {
   "cell_type": "code",
   "execution_count": 1,
   "metadata": {},
   "outputs": [
    {
     "name": "stdout",
     "output_type": "stream",
     "text": [
      "Requirement already satisfied: scikit-learn in c:\\users\\juann\\anaconda3\\lib\\site-packages (0.22.1)\n",
      "Requirement already satisfied: scipy>=0.17.0 in c:\\users\\juann\\anaconda3\\lib\\site-packages (from scikit-learn) (1.4.1)\n",
      "Requirement already satisfied: numpy>=1.11.0 in c:\\users\\juann\\anaconda3\\lib\\site-packages (from scikit-learn) (1.18.1)\n",
      "Requirement already satisfied: joblib>=0.11 in c:\\users\\juann\\anaconda3\\lib\\site-packages (from scikit-learn) (0.14.1)\n"
     ]
    }
   ],
   "source": [
    "! pip install --user scikit-learn"
   ]
  },
  {
   "cell_type": "code",
   "execution_count": 2,
   "metadata": {},
   "outputs": [],
   "source": [
    "from sklearn.metrics import cohen_kappa_score"
   ]
  },
  {
   "cell_type": "markdown",
   "metadata": {},
   "source": [
    "This library expects relevance assessments as lists of elements where `1` stands for _relevant_ and `0` stands for _not relevant_, for example like this:"
   ]
  },
  {
   "cell_type": "code",
   "execution_count": 3,
   "metadata": {},
   "outputs": [],
   "source": [
    "a1=[1,0,1,0,1,0,1,0]"
   ]
  },
  {
   "cell_type": "markdown",
   "metadata": {},
   "source": [
    "This list means that the first document was assessed to be relevant, the second to be not relevant, the third to be relevant etc.\n",
    "\n",
    "We need two assessments in order to calculate Cohen's kappa, so let's make another exemplary list that only differs on the last element:"
   ]
  },
  {
   "cell_type": "code",
   "execution_count": 4,
   "metadata": {},
   "outputs": [],
   "source": [
    "a2=[1,0,1,0,1,0,1,1]"
   ]
  },
  {
   "cell_type": "markdown",
   "metadata": {},
   "source": [
    "We can now invoke the library as follows to calculate the agreement between the two:"
   ]
  },
  {
   "cell_type": "code",
   "execution_count": 5,
   "metadata": {},
   "outputs": [
    {
     "data": {
      "text/plain": [
       "0.75"
      ]
     },
     "execution_count": 5,
     "metadata": {},
     "output_type": "execute_result"
    }
   ],
   "source": [
    "cohen_kappa_score(a1, a2)"
   ]
  },
  {
   "cell_type": "markdown",
   "metadata": {},
   "source": [
    "This value represents high agreement. We can reach maximal agreement if the two assessments are identical:"
   ]
  },
  {
   "cell_type": "code",
   "execution_count": 6,
   "metadata": {},
   "outputs": [
    {
     "data": {
      "text/plain": [
       "1.0"
      ]
     },
     "execution_count": 6,
     "metadata": {},
     "output_type": "execute_result"
    }
   ],
   "source": [
    "cohen_kappa_score(a1, a1)"
   ]
  },
  {
   "cell_type": "markdown",
   "metadata": {},
   "source": [
    "Now, let's see what happens for a third assessment that differs on three positions with the first one (the three last positions):"
   ]
  },
  {
   "cell_type": "code",
   "execution_count": 7,
   "metadata": {},
   "outputs": [
    {
     "data": {
      "text/plain": [
       "0.25"
      ]
     },
     "execution_count": 7,
     "metadata": {},
     "output_type": "execute_result"
    }
   ],
   "source": [
    "a3=[1,0,1,0,1,1,0,1]\n",
    "\n",
    "cohen_kappa_score(a1, a3)"
   ]
  },
  {
   "cell_type": "markdown",
   "metadata": {},
   "source": [
    "We get a smaller but still positive value, because these two assessments still mostly agree. If we make a further example that differs on 6 of the 8 positions, we get the following result:"
   ]
  },
  {
   "cell_type": "code",
   "execution_count": 8,
   "metadata": {},
   "outputs": [
    {
     "data": {
      "text/plain": [
       "-0.5"
      ]
     },
     "execution_count": 8,
     "metadata": {},
     "output_type": "execute_result"
    }
   ],
   "source": [
    "a4=[1,0,0,1,0,1,0,1]\n",
    "\n",
    "cohen_kappa_score(a1, a4)"
   ]
  },
  {
   "cell_type": "markdown",
   "metadata": {},
   "source": [
    "The score is now negative, because the two differ on more positions than they agree. The agreement is in fact less than what you would expect to occur just by chance. We get the maximal disagreement if we define a fifth example that disagrees on all positions:"
   ]
  },
  {
   "cell_type": "code",
   "execution_count": 9,
   "metadata": {},
   "outputs": [
    {
     "data": {
      "text/plain": [
       "-1.0"
      ]
     },
     "execution_count": 9,
     "metadata": {},
     "output_type": "execute_result"
    }
   ],
   "source": [
    "a5=[0,1,0,1,0,1,0,1]\n",
    "\n",
    "cohen_kappa_score(a1, a5)"
   ]
  },
  {
   "cell_type": "markdown",
   "metadata": {},
   "source": [
    "Be aware that the kappa score cannot be calculated if you have only `1`s or only `0`s:"
   ]
  },
  {
   "cell_type": "code",
   "execution_count": 10,
   "metadata": {},
   "outputs": [
    {
     "name": "stderr",
     "output_type": "stream",
     "text": [
      "C:\\Users\\juann\\anaconda3\\lib\\site-packages\\sklearn\\metrics\\_classification.py:604: RuntimeWarning: invalid value encountered in true_divide\n",
      "  k = np.sum(w_mat * confusion) / np.sum(w_mat * expected)\n"
     ]
    },
    {
     "data": {
      "text/plain": [
       "nan"
      ]
     },
     "execution_count": 10,
     "metadata": {},
     "output_type": "execute_result"
    }
   ],
   "source": [
    "a6=[1,1,1,1,1,1,1,1]\n",
    "a7=[1,1,1,1,1,1,1,1]\n",
    "\n",
    "cohen_kappa_score(a6, a7)"
   ]
  },
  {
   "cell_type": "markdown",
   "metadata": {},
   "source": [
    "And in the case of a highly skewed set (either vast majority of agreements on `1` or vast majority of agreements on `0`), the kappa score can be counter-intuitive:"
   ]
  },
  {
   "cell_type": "code",
   "execution_count": 11,
   "metadata": {},
   "outputs": [
    {
     "data": {
      "text/plain": [
       "-0.1428571428571428"
      ]
     },
     "execution_count": 11,
     "metadata": {},
     "output_type": "execute_result"
    }
   ],
   "source": [
    "a8=[1,1,1,1,1,1,0,1]\n",
    "a9=[1,1,1,1,1,1,1,0]\n",
    "\n",
    "cohen_kappa_score(a8, a9)"
   ]
  },
  {
   "cell_type": "markdown",
   "metadata": {},
   "source": [
    "Now that we understand how this function works, we will apply it below for our specific evaluation."
   ]
  },
  {
   "cell_type": "markdown",
   "metadata": {},
   "source": [
    "# Results and Assessments\n",
    "\n",
    "Next, we will define some auxilary code to deal with lists of URLs from search engines and associated relevance assessments. We will encode result lists like this:"
   ]
  },
  {
   "cell_type": "code",
   "execution_count": 12,
   "metadata": {},
   "outputs": [],
   "source": [
    "urls = [\n",
    "    'https://en.wikipedia.org/wiki/Information_retrieval/',  # 1st result\n",
    "    'http://www.dictionary.com/browse/information',          # 2nd result\n",
    "    'https://nlp.stanford.edu/IR-book/'                      # ...\n",
    "]"
   ]
  },
  {
   "cell_type": "markdown",
   "metadata": {},
   "source": [
    "And we represent corresponding assessments, as above, as lists of the same size containing relevance values:"
   ]
  },
  {
   "cell_type": "code",
   "execution_count": 13,
   "metadata": {},
   "outputs": [],
   "source": [
    "my_assessment = [1, 0, 1]\n",
    "another_assessment = [0, 0, 1]"
   ]
  },
  {
   "cell_type": "markdown",
   "metadata": {},
   "source": [
    "In order to nicely display URL lists, with or without related assessments, we define a function called `display_results`:"
   ]
  },
  {
   "cell_type": "code",
   "execution_count": 14,
   "metadata": {},
   "outputs": [],
   "source": [
    "from IPython.display import display, HTML\n",
    "\n",
    "def display_results(urls, assessment1=None, assessment2=None):\n",
    "    lines = []\n",
    "    lines.append('<table>')\n",
    "    header = '<tr><th>#</th><th>Result URL</th>'\n",
    "    if (assessment1):\n",
    "        header += '<th>Assessment 1</th>'\n",
    "    if (assessment2):\n",
    "        header += '<th>Assessment 2</th>'\n",
    "    header += '</tr>'\n",
    "    lines.append(header)\n",
    "    i = 0\n",
    "    for url in urls:\n",
    "        show_url = url\n",
    "        if (len(url) > 80):\n",
    "            show_url = url[:75] + '...'\n",
    "        line = '<tr><td>{}</td><td><a href=\"{:s}\">{:s}</a></td>'.format(i+1, url, show_url)\n",
    "        if (assessment1):\n",
    "            if (assessment1[i] == 0):\n",
    "                line += '<td><em>Not relevant</em></td>'\n",
    "            else:\n",
    "                line += '<td><strong>Relevant</strong></td>'\n",
    "        if (assessment2):\n",
    "            if (assessment2[i] == 0):\n",
    "                line += '<td><em>Not relevant</em></td>'\n",
    "            else:\n",
    "                line += '<td><strong>Relevant</strong></td>'\n",
    "        line += '</tr>'\n",
    "        lines.append(line)\n",
    "        i = i+1\n",
    "    lines.append('</table>')\n",
    "    display( HTML(''.join(lines)) )"
   ]
  },
  {
   "cell_type": "markdown",
   "metadata": {},
   "source": [
    "We can use this function to display a list of URLs, optionally together with one or two assessment lists:"
   ]
  },
  {
   "cell_type": "code",
   "execution_count": 15,
   "metadata": {},
   "outputs": [
    {
     "name": "stdout",
     "output_type": "stream",
     "text": [
      "Just a list of URLs:\n"
     ]
    },
    {
     "data": {
      "text/html": [
       "<table><tr><th>#</th><th>Result URL</th></tr><tr><td>1</td><td><a href=\"https://en.wikipedia.org/wiki/Information_retrieval/\">https://en.wikipedia.org/wiki/Information_retrieval/</a></td></tr><tr><td>2</td><td><a href=\"http://www.dictionary.com/browse/information\">http://www.dictionary.com/browse/information</a></td></tr><tr><td>3</td><td><a href=\"https://nlp.stanford.edu/IR-book/\">https://nlp.stanford.edu/IR-book/</a></td></tr></table>"
      ],
      "text/plain": [
       "<IPython.core.display.HTML object>"
      ]
     },
     "metadata": {},
     "output_type": "display_data"
    },
    {
     "name": "stdout",
     "output_type": "stream",
     "text": [
      "With one assessment:\n"
     ]
    },
    {
     "data": {
      "text/html": [
       "<table><tr><th>#</th><th>Result URL</th><th>Assessment 1</th></tr><tr><td>1</td><td><a href=\"https://en.wikipedia.org/wiki/Information_retrieval/\">https://en.wikipedia.org/wiki/Information_retrieval/</a></td><td><strong>Relevant</strong></td></tr><tr><td>2</td><td><a href=\"http://www.dictionary.com/browse/information\">http://www.dictionary.com/browse/information</a></td><td><em>Not relevant</em></td></tr><tr><td>3</td><td><a href=\"https://nlp.stanford.edu/IR-book/\">https://nlp.stanford.edu/IR-book/</a></td><td><strong>Relevant</strong></td></tr></table>"
      ],
      "text/plain": [
       "<IPython.core.display.HTML object>"
      ]
     },
     "metadata": {},
     "output_type": "display_data"
    },
    {
     "name": "stdout",
     "output_type": "stream",
     "text": [
      "With two assessments:\n"
     ]
    },
    {
     "data": {
      "text/html": [
       "<table><tr><th>#</th><th>Result URL</th><th>Assessment 1</th><th>Assessment 2</th></tr><tr><td>1</td><td><a href=\"https://en.wikipedia.org/wiki/Information_retrieval/\">https://en.wikipedia.org/wiki/Information_retrieval/</a></td><td><strong>Relevant</strong></td><td><em>Not relevant</em></td></tr><tr><td>2</td><td><a href=\"http://www.dictionary.com/browse/information\">http://www.dictionary.com/browse/information</a></td><td><em>Not relevant</em></td><td><em>Not relevant</em></td></tr><tr><td>3</td><td><a href=\"https://nlp.stanford.edu/IR-book/\">https://nlp.stanford.edu/IR-book/</a></td><td><strong>Relevant</strong></td><td><strong>Relevant</strong></td></tr></table>"
      ],
      "text/plain": [
       "<IPython.core.display.HTML object>"
      ]
     },
     "metadata": {},
     "output_type": "display_data"
    }
   ],
   "source": [
    "print(\"Just a list of URLs:\")\n",
    "display_results(urls)\n",
    "\n",
    "print(\"With one assessment:\")\n",
    "display_results(urls, my_assessment)\n",
    "\n",
    "print(\"With two assessments:\")\n",
    "display_results(urls, my_assessment, another_assessment)"
   ]
  },
  {
   "cell_type": "markdown",
   "metadata": {},
   "source": [
    "Now we are ready to perform an actual evaluation, which will involve a substantial amount of manual work."
   ]
  },
  {
   "cell_type": "markdown",
   "metadata": {},
   "source": [
    "---"
   ]
  },
  {
   "cell_type": "markdown",
   "metadata": {},
   "source": [
    "# Tasks"
   ]
  },
  {
   "cell_type": "markdown",
   "metadata": {},
   "source": [
    "**Your name:** Juan Rodriguez Peinado"
   ]
  },
  {
   "cell_type": "markdown",
   "metadata": {},
   "source": [
    "### Task 1\n",
    "\n",
    "Think up and formulate a information need (for example in the field of Computer Science or Medicine) for which you think the answer can be found in scientific publications. On page 152 in the book an example of such an information need is shown: \"Information on whether drinking red wine is more effective at reducing the risk of heart attacks than white wine.\""
   ]
  },
  {
   "cell_type": "markdown",
   "metadata": {},
   "source": [
    "**Answer:** L-carnitine increases performance (not necessarily an athlete)"
   ]
  },
  {
   "cell_type": "markdown",
   "metadata": {},
   "source": [
    "Next, write down specifically what documents have to look like to satisfy your information need. For example if your information need is about finding an overview of different cancer types, you could state that a document would need to list at least ten types of cancer to satisfy your information need (among other criteria). Write this down as a protocol with rules and examples. For example, such a protocol could state that at least three out of five given criteria have to be fulfilled for a document to be considered relevant for the information need, and then specify the criteria. Or your protocol could have the form of a sequence of rules, where each rule lets you either label the document as relevant or not relevant, or proceed with the next rule. Such rules and criteria can, for example, be about the general topic of the paper, the concepts mentioned in it, the covered relations between concepts, the type of publication (research paper, overview paper, etc.), the number of references, the types of contained diagrams, and so on, depending on your specified information need."
   ]
  },
  {
   "cell_type": "markdown",
   "metadata": {},
   "source": [
    "**Answer:** In Order to satisfy the information need, we would need:\n",
    "    - A clear suggestion whether L-carnitien helps on performance or not (not necessarily the main cause but helps to the stimulus of performance).\n",
    "    - An experiment with subjects to prove the statement or fail to claim it e.g: subjects take the supplement and others that take them as placebo.\n",
    "    - At least 10 references from the same topic or related in which support the claim of the paper retrieved.\n",
    "    "
   ]
  },
  {
   "cell_type": "markdown",
   "metadata": {},
   "source": [
    "### Task 2\n",
    "\n",
    "Formulate a keyword query that represents the information need. For the example on page 152 in the book (see above), the example query \"wine AND red AND white AND heart AND attack AND effective\" is given. (You don't need to use connectors like \"AND\", but if you do, make first sure your chosen search engines below actually support them.)"
   ]
  },
  {
   "cell_type": "markdown",
   "metadata": {},
   "source": [
    "**Answer:** L-carnitine exercise "
   ]
  },
  {
   "cell_type": "markdown",
   "metadata": {},
   "source": [
    "Then submit your query to **two** of the following academic search engines:\n",
    "\n",
    "- [Google Scholar](https://scholar.google.com) (all science disciplines)\n",
    "- [Semantic Scholar](https://www.semanticscholar.org) (all science disciplines)\n",
    "- [PubMed Search](https://www.ncbi.nlm.nih.gov/pubmed) (Life Sciences / biomedicine)\n",
    "\n",
    "The right choice of two from the three search engine depends on the topic of your information need. If your information need is in the Life Sciences and biomedicine, it's probably best to include PubMed Search, but otherwise you should pick Google Scholar and Semantic Scholar.\n",
    "\n",
    "Extract a list of the top 10 URLs of the lists of each of the search engines given the query. To be ensure that your results are reproducible, it is advised to use the private mode of your browser. Try to access the resulting publications. For the publications where that is not possible (because of dead links or because the publication is pay-walled even within the VU network), exclude them from the list and add more publications to the end of your list (that is, append results number 11, then 12, etc. to ensure you have two lists of 10 publications each). In order to deal with paywalls, you should try accessing the articles from the VU network, use\n",
    "[UBVU Off-Campus\n",
    "Access](http://www.ub.vu.nl.vu-nl.idm.oclc.org/nl/faciliteiten/toegang-buiten-de-campus/index.aspx), or try to find the respective documents from alternative sources (Google Scholar, for example, is very good at finding free PDFs of articles). If you get fewer than 10 results for one of the search engines, modify the keyword query above to make it more inclusive, and then redo the steps of this task.\n",
    "\n",
    "Store your two lists of URLs in the form of Python lists as introduced above. Then, use the `display_results` function to nicely display them."
   ]
  },
  {
   "cell_type": "code",
   "execution_count": 16,
   "metadata": {},
   "outputs": [
    {
     "name": "stdout",
     "output_type": "stream",
     "text": [
      "List of Google URLs':\n"
     ]
    },
    {
     "data": {
      "text/html": [
       "<table><tr><th>#</th><th>Result URL</th></tr><tr><td>1</td><td><a href=\"https://link.springer.com/article/10.1007/BF00236072\">https://link.springer.com/article/10.1007/BF00236072</a></td></tr><tr><td>2</td><td><a href=\"https://journals.physiology.org/doi/full/10.1152/ajpendo.00277.2001?view=long&pmid=11788381&\">https://journals.physiology.org/doi/full/10.1152/ajpendo.00277.2001?view=lo...</a></td></tr><tr><td>3</td><td><a href=\"https://ascpt.onlinelibrary.wiley.com/doi/abs/10.1038/clpt.1994.85\">https://ascpt.onlinelibrary.wiley.com/doi/abs/10.1038/clpt.1994.85</a></td></tr><tr><td>4</td><td><a href=\"https://physoc.onlinelibrary.wiley.com/doi/full/10.1113/jphysiol.2010.201343%4010.1002/%28ISSN%291469-445X%28CAT%29VirtualIssues%28VI%29bbep2011\">https://physoc.onlinelibrary.wiley.com/doi/full/10.1113/jphysiol.2010.20134...</a></td></tr><tr><td>5</td><td><a href=\"https://www.sciencedirect.com/science/article/abs/pii/030441659090147O\">https://www.sciencedirect.com/science/article/abs/pii/030441659090147O</a></td></tr><tr><td>6</td><td><a href=\"https://www.researchgate.net/profile/Matthew_Sharman/publication/10604648_The_Effects_of_L-Carnitine_L-Tartrate_Supplementation_on_Hormonal_Responses_to_Resistance_Exercise_and_Recovery/links/0046351d35f9b08bbc000000/The-Effects-of-L-Carnitine-L-Tartrate-Supplementation-on-Hormonal-Responses-to-Resistance-Exercise-and-Recovery.pdf\">https://www.researchgate.net/profile/Matthew_Sharman/publication/10604648_T...</a></td></tr><tr><td>7</td><td><a href=\"https://www.mdpi.com/2072-6643/10/3/349\">https://www.mdpi.com/2072-6643/10/3/349</a></td></tr><tr><td>8</td><td><a href=\"https://www.sciencedirect.com/science/article/abs/pii/S0272638605800198\">https://www.sciencedirect.com/science/article/abs/pii/S0272638605800198</a></td></tr><tr><td>9</td><td><a href=\"https://d1wqtxts1xzle7.cloudfront.net/47994800/Androgenic_responses_to_resistance_exerc20160812-5210-1bxjw3c.pdf?1470996544=&response-content-disposition=inline%3B+filename%3DAndrogenic_Responses_to_Resistance_Exerc.pdf&Expires=1605635097&Signature=VWJyK8zkfAmoZKaToOqR-k-O6W8JeGaLExQqc~fJPR8HOedbPjkSKQhYyh3aONDevU-0bZ0IwD2vgW5ILmTfVS5fcS3H8kM3Zxus8W8hFKmQbeWELPvMNTWsFR~Y13TKunCNOfF5S1sVhBkppublmU1xmtPHLYx1hQ5B~lPD-cvgUcQ6lWE3J47iOurpT8nwIKVyX40EpQcim9Yzr1j1saCN0j9svKTS5lFaiqskqE6r5wLkFt6T3VAZr~oe6YUNAOjCsXNFAn2kbI0k9~FFaEivltUbnfUAbacqrNfiiEME~Eh3DdP61U7FcqqJAsilXgXH8DD~gYOHDwyqwZPtuw__&Key-Pair-Id=APKAJLOHF5GGSLRBV4ZA\">https://d1wqtxts1xzle7.cloudfront.net/47994800/Androgenic_responses_to_resi...</a></td></tr><tr><td>10</td><td><a href=\"https://www.sciencedirect.com/science/article/abs/pii/S0899900702010158\">https://www.sciencedirect.com/science/article/abs/pii/S0899900702010158</a></td></tr></table>"
      ],
      "text/plain": [
       "<IPython.core.display.HTML object>"
      ]
     },
     "metadata": {},
     "output_type": "display_data"
    },
    {
     "name": "stdout",
     "output_type": "stream",
     "text": [
      "List of PubMed URLs':\n"
     ]
    },
    {
     "data": {
      "text/html": [
       "<table><tr><th>#</th><th>Result URL</th></tr><tr><td>1</td><td><a href=\"https://pubmed.ncbi.nlm.nih.gov/29534031/\">https://pubmed.ncbi.nlm.nih.gov/29534031/</a></td></tr><tr><td>2</td><td><a href=\"https://pubmed.ncbi.nlm.nih.gov/21561431/\">https://pubmed.ncbi.nlm.nih.gov/21561431/</a></td></tr><tr><td>3</td><td><a href=\"https://pubmed.ncbi.nlm.nih.gov/28653367/\">https://pubmed.ncbi.nlm.nih.gov/28653367/</a></td></tr><tr><td>4</td><td><a href=\"https://pubmed.ncbi.nlm.nih.gov/15212755/\">https://pubmed.ncbi.nlm.nih.gov/15212755/</a></td></tr><tr><td>5</td><td><a href=\"https://pubmed.ncbi.nlm.nih.gov/30219858/\">https://pubmed.ncbi.nlm.nih.gov/30219858/</a></td></tr><tr><td>6</td><td><a href=\"https://pubmed.ncbi.nlm.nih.gov/21224234/\">https://pubmed.ncbi.nlm.nih.gov/21224234/</a></td></tr><tr><td>7</td><td><a href=\"https://pubmed.ncbi.nlm.nih.gov/30635360/\">https://pubmed.ncbi.nlm.nih.gov/30635360/</a></td></tr><tr><td>8</td><td><a href=\"https://pubmed.ncbi.nlm.nih.gov/25612929/\">https://pubmed.ncbi.nlm.nih.gov/25612929/</a></td></tr><tr><td>9</td><td><a href=\"https://pubmed.ncbi.nlm.nih.gov/31906370/\">https://pubmed.ncbi.nlm.nih.gov/31906370/</a></td></tr><tr><td>10</td><td><a href=\"https://pubmed.ncbi.nlm.nih.gov/24263659/\">https://pubmed.ncbi.nlm.nih.gov/24263659/</a></td></tr></table>"
      ],
      "text/plain": [
       "<IPython.core.display.HTML object>"
      ]
     },
     "metadata": {},
     "output_type": "display_data"
    }
   ],
   "source": [
    "# Create two of the lists below, depending on your chosen engines:\n",
    "# https://sci-hub.tf/open if closes\n",
    "urls_google = [\n",
    "    'https://link.springer.com/article/10.1007/BF00236072', \n",
    "    'https://journals.physiology.org/doi/full/10.1152/ajpendo.00277.2001?view=long&pmid=11788381&',\n",
    "    'https://ascpt.onlinelibrary.wiley.com/doi/abs/10.1038/clpt.1994.85',\n",
    "    'https://physoc.onlinelibrary.wiley.com/doi/full/10.1113/jphysiol.2010.201343%4010.1002/%28ISSN%291469-445X%28CAT%29VirtualIssues%28VI%29bbep2011',\n",
    "    'https://www.sciencedirect.com/science/article/abs/pii/030441659090147O',\n",
    "    'https://www.researchgate.net/profile/Matthew_Sharman/publication/10604648_The_Effects_of_L-Carnitine_L-Tartrate_Supplementation_on_Hormonal_Responses_to_Resistance_Exercise_and_Recovery/links/0046351d35f9b08bbc000000/The-Effects-of-L-Carnitine-L-Tartrate-Supplementation-on-Hormonal-Responses-to-Resistance-Exercise-and-Recovery.pdf',\n",
    "    'https://www.mdpi.com/2072-6643/10/3/349', \n",
    "    'https://www.sciencedirect.com/science/article/abs/pii/S0272638605800198',\n",
    "    'https://d1wqtxts1xzle7.cloudfront.net/47994800/Androgenic_responses_to_resistance_exerc20160812-5210-1bxjw3c.pdf?1470996544=&response-content-disposition=inline%3B+filename%3DAndrogenic_Responses_to_Resistance_Exerc.pdf&Expires=1605635097&Signature=VWJyK8zkfAmoZKaToOqR-k-O6W8JeGaLExQqc~fJPR8HOedbPjkSKQhYyh3aONDevU-0bZ0IwD2vgW5ILmTfVS5fcS3H8kM3Zxus8W8hFKmQbeWELPvMNTWsFR~Y13TKunCNOfF5S1sVhBkppublmU1xmtPHLYx1hQ5B~lPD-cvgUcQ6lWE3J47iOurpT8nwIKVyX40EpQcim9Yzr1j1saCN0j9svKTS5lFaiqskqE6r5wLkFt6T3VAZr~oe6YUNAOjCsXNFAn2kbI0k9~FFaEivltUbnfUAbacqrNfiiEME~Eh3DdP61U7FcqqJAsilXgXH8DD~gYOHDwyqwZPtuw__&Key-Pair-Id=APKAJLOHF5GGSLRBV4ZA',\n",
    "    'https://www.sciencedirect.com/science/article/abs/pii/S0899900702010158'\n",
    "]\n",
    "#urls_semantic = ...\n",
    "urls_pubmed = [\n",
    "    'https://pubmed.ncbi.nlm.nih.gov/29534031/',\n",
    "    'https://pubmed.ncbi.nlm.nih.gov/21561431/',\n",
    "    'https://pubmed.ncbi.nlm.nih.gov/28653367/',\n",
    "    'https://pubmed.ncbi.nlm.nih.gov/15212755/',\n",
    "    'https://pubmed.ncbi.nlm.nih.gov/30219858/', #5\n",
    "    'https://pubmed.ncbi.nlm.nih.gov/21224234/',\n",
    "    'https://pubmed.ncbi.nlm.nih.gov/30635360/',\n",
    "    'https://pubmed.ncbi.nlm.nih.gov/25612929/',\n",
    "    'https://pubmed.ncbi.nlm.nih.gov/31906370/',\n",
    "    'https://pubmed.ncbi.nlm.nih.gov/24263659/' #10\n",
    "]\n",
    "\n",
    "# Call display_results here\n",
    "print(\"List of Google URLs':\")\n",
    "display_results(urls_google)\n",
    "\n",
    "print(\"List of PubMed URLs':\")\n",
    "display_results(urls_pubmed)"
   ]
  },
  {
   "cell_type": "markdown",
   "metadata": {},
   "source": [
    "### Task 3\n",
    "\n",
    "Then, find a fellow student who will **independently**\n",
    "assess the results as \"relevant\" or \"not relevant\" using the protocol that you\n",
    "have defined above, and also help (at least) one other student for his/her\n",
    "assessment. Write down their names here:"
   ]
  },
  {
   "cell_type": "markdown",
   "metadata": {},
   "source": [
    "**Name of the student who assesses my results:** Merel Jongmans\n",
    "\n",
    "**Name of the student who I help to assess his/her results:** Merel Jongmans"
   ]
  },
  {
   "cell_type": "markdown",
   "metadata": {},
   "source": [
    "Show to the other assessor everything you have written down above for Tasks 1 and 2 (and you might also want to give him/her the PDFs you got for these papers to simplify the process).\n",
    "\n",
    "You as assessors need to stick to the protocol you made in Task 1 and should not discuss with each other, especially when you doubt whether a result is relevant or not. Write down your assessments as lists of relevance values, as introduced above, and make sure they correctly map to the URLs by displaying them together with the `display_results` function.\n",
    "\n",
    "To avoid problems with extreme results, mark in each list at least one paper as 'relevant' and at least one paper as 'not relevant'. That is, if all papers seem relevant, mark the one that seems least relevant 'not relevant', and conversely, if none of the papers seem relevant, mark the one that seems a bit more relevant than the others as 'relevant'."
   ]
  },
  {
   "cell_type": "code",
   "execution_count": 17,
   "metadata": {},
   "outputs": [
    {
     "name": "stdout",
     "output_type": "stream",
     "text": [
      "List of Google URLs':\n"
     ]
    },
    {
     "data": {
      "text/html": [
       "<table><tr><th>#</th><th>Result URL</th><th>Assessment 1</th><th>Assessment 2</th></tr><tr><td>1</td><td><a href=\"https://link.springer.com/article/10.1007/BF00236072\">https://link.springer.com/article/10.1007/BF00236072</a></td><td><strong>Relevant</strong></td><td><strong>Relevant</strong></td></tr><tr><td>2</td><td><a href=\"https://journals.physiology.org/doi/full/10.1152/ajpendo.00277.2001?view=long&pmid=11788381&\">https://journals.physiology.org/doi/full/10.1152/ajpendo.00277.2001?view=lo...</a></td><td><strong>Relevant</strong></td><td><strong>Relevant</strong></td></tr><tr><td>3</td><td><a href=\"https://ascpt.onlinelibrary.wiley.com/doi/abs/10.1038/clpt.1994.85\">https://ascpt.onlinelibrary.wiley.com/doi/abs/10.1038/clpt.1994.85</a></td><td><strong>Relevant</strong></td><td><strong>Relevant</strong></td></tr><tr><td>4</td><td><a href=\"https://physoc.onlinelibrary.wiley.com/doi/full/10.1113/jphysiol.2010.201343%4010.1002/%28ISSN%291469-445X%28CAT%29VirtualIssues%28VI%29bbep2011\">https://physoc.onlinelibrary.wiley.com/doi/full/10.1113/jphysiol.2010.20134...</a></td><td><em>Not relevant</em></td><td><em>Not relevant</em></td></tr><tr><td>5</td><td><a href=\"https://www.sciencedirect.com/science/article/abs/pii/030441659090147O\">https://www.sciencedirect.com/science/article/abs/pii/030441659090147O</a></td><td><strong>Relevant</strong></td><td><strong>Relevant</strong></td></tr><tr><td>6</td><td><a href=\"https://www.researchgate.net/profile/Matthew_Sharman/publication/10604648_The_Effects_of_L-Carnitine_L-Tartrate_Supplementation_on_Hormonal_Responses_to_Resistance_Exercise_and_Recovery/links/0046351d35f9b08bbc000000/The-Effects-of-L-Carnitine-L-Tartrate-Supplementation-on-Hormonal-Responses-to-Resistance-Exercise-and-Recovery.pdf\">https://www.researchgate.net/profile/Matthew_Sharman/publication/10604648_T...</a></td><td><strong>Relevant</strong></td><td><strong>Relevant</strong></td></tr><tr><td>7</td><td><a href=\"https://www.mdpi.com/2072-6643/10/3/349\">https://www.mdpi.com/2072-6643/10/3/349</a></td><td><em>Not relevant</em></td><td><strong>Relevant</strong></td></tr><tr><td>8</td><td><a href=\"https://www.sciencedirect.com/science/article/abs/pii/S0272638605800198\">https://www.sciencedirect.com/science/article/abs/pii/S0272638605800198</a></td><td><em>Not relevant</em></td><td><strong>Relevant</strong></td></tr><tr><td>9</td><td><a href=\"https://d1wqtxts1xzle7.cloudfront.net/47994800/Androgenic_responses_to_resistance_exerc20160812-5210-1bxjw3c.pdf?1470996544=&response-content-disposition=inline%3B+filename%3DAndrogenic_Responses_to_Resistance_Exerc.pdf&Expires=1605635097&Signature=VWJyK8zkfAmoZKaToOqR-k-O6W8JeGaLExQqc~fJPR8HOedbPjkSKQhYyh3aONDevU-0bZ0IwD2vgW5ILmTfVS5fcS3H8kM3Zxus8W8hFKmQbeWELPvMNTWsFR~Y13TKunCNOfF5S1sVhBkppublmU1xmtPHLYx1hQ5B~lPD-cvgUcQ6lWE3J47iOurpT8nwIKVyX40EpQcim9Yzr1j1saCN0j9svKTS5lFaiqskqE6r5wLkFt6T3VAZr~oe6YUNAOjCsXNFAn2kbI0k9~FFaEivltUbnfUAbacqrNfiiEME~Eh3DdP61U7FcqqJAsilXgXH8DD~gYOHDwyqwZPtuw__&Key-Pair-Id=APKAJLOHF5GGSLRBV4ZA\">https://d1wqtxts1xzle7.cloudfront.net/47994800/Androgenic_responses_to_resi...</a></td><td><em>Not relevant</em></td><td><em>Not relevant</em></td></tr><tr><td>10</td><td><a href=\"https://www.sciencedirect.com/science/article/abs/pii/S0899900702010158\">https://www.sciencedirect.com/science/article/abs/pii/S0899900702010158</a></td><td><strong>Relevant</strong></td><td><strong>Relevant</strong></td></tr></table>"
      ],
      "text/plain": [
       "<IPython.core.display.HTML object>"
      ]
     },
     "metadata": {},
     "output_type": "display_data"
    },
    {
     "name": "stdout",
     "output_type": "stream",
     "text": [
      "List of PubMed URLs':\n"
     ]
    },
    {
     "data": {
      "text/html": [
       "<table><tr><th>#</th><th>Result URL</th><th>Assessment 1</th><th>Assessment 2</th></tr><tr><td>1</td><td><a href=\"https://pubmed.ncbi.nlm.nih.gov/29534031/\">https://pubmed.ncbi.nlm.nih.gov/29534031/</a></td><td><em>Not relevant</em></td><td><strong>Relevant</strong></td></tr><tr><td>2</td><td><a href=\"https://pubmed.ncbi.nlm.nih.gov/21561431/\">https://pubmed.ncbi.nlm.nih.gov/21561431/</a></td><td><em>Not relevant</em></td><td><em>Not relevant</em></td></tr><tr><td>3</td><td><a href=\"https://pubmed.ncbi.nlm.nih.gov/28653367/\">https://pubmed.ncbi.nlm.nih.gov/28653367/</a></td><td><em>Not relevant</em></td><td><em>Not relevant</em></td></tr><tr><td>4</td><td><a href=\"https://pubmed.ncbi.nlm.nih.gov/15212755/\">https://pubmed.ncbi.nlm.nih.gov/15212755/</a></td><td><strong>Relevant</strong></td><td><strong>Relevant</strong></td></tr><tr><td>5</td><td><a href=\"https://pubmed.ncbi.nlm.nih.gov/30219858/\">https://pubmed.ncbi.nlm.nih.gov/30219858/</a></td><td><em>Not relevant</em></td><td><strong>Relevant</strong></td></tr><tr><td>6</td><td><a href=\"https://pubmed.ncbi.nlm.nih.gov/21224234/\">https://pubmed.ncbi.nlm.nih.gov/21224234/</a></td><td><strong>Relevant</strong></td><td><strong>Relevant</strong></td></tr><tr><td>7</td><td><a href=\"https://pubmed.ncbi.nlm.nih.gov/30635360/\">https://pubmed.ncbi.nlm.nih.gov/30635360/</a></td><td><em>Not relevant</em></td><td><em>Not relevant</em></td></tr><tr><td>8</td><td><a href=\"https://pubmed.ncbi.nlm.nih.gov/25612929/\">https://pubmed.ncbi.nlm.nih.gov/25612929/</a></td><td><strong>Relevant</strong></td><td><strong>Relevant</strong></td></tr><tr><td>9</td><td><a href=\"https://pubmed.ncbi.nlm.nih.gov/31906370/\">https://pubmed.ncbi.nlm.nih.gov/31906370/</a></td><td><strong>Relevant</strong></td><td><strong>Relevant</strong></td></tr><tr><td>10</td><td><a href=\"https://pubmed.ncbi.nlm.nih.gov/24263659/\">https://pubmed.ncbi.nlm.nih.gov/24263659/</a></td><td><strong>Relevant</strong></td><td><strong>Relevant</strong></td></tr></table>"
      ],
      "text/plain": [
       "<IPython.core.display.HTML object>"
      ]
     },
     "metadata": {},
     "output_type": "display_data"
    }
   ],
   "source": [
    "# 0 = not relevant; 1 = relevant\n",
    "\n",
    "# You only need to create 4 of the following 6 lists, again depending on which search engines you chose.\n",
    "\n",
    "# Assessment 1 is from you:\n",
    "\n",
    "assessment1_google = [1,1,1,0,1,1,0,0,0,1]\n",
    "#assessment1_semantic = ...\n",
    "assessment1_pubmed = [0,0,0,1,0,1,0,1,1,1]\n",
    "\n",
    "# Assessment 2 is from your fellow student (don't show him/her your own assessment!):\n",
    "\n",
    "assessment2_google = [1,1,1,0,1,1,1,1,0,1]\n",
    "#assessment2_semantic = ...\n",
    "assessment2_pubmed = [1,0,0,1,1,1,0,1,1,1]\n",
    "\n",
    "# Call display_results here\n",
    "print(\"List of Google URLs':\")\n",
    "display_results(urls_google, assessment1_google, assessment2_google)\n",
    "print(\"List of PubMed URLs':\")\n",
    "display_results(urls_pubmed, assessment1_pubmed, assessment2_pubmed)"
   ]
  },
  {
   "cell_type": "markdown",
   "metadata": {},
   "source": [
    "### Task 4\n",
    "\n",
    "Compute Cohen's kappa to quantify how much the two assessors agreed. Use the function `cohen_kappa_score` demonstrated above to calculate two times the inter-annotator agreement (once for each of the two search engines), and print out the results."
   ]
  },
  {
   "cell_type": "code",
   "execution_count": 18,
   "metadata": {},
   "outputs": [
    {
     "name": "stdout",
     "output_type": "stream",
     "text": [
      "Kappa for Google Scholar: 0.5454545454545454\n",
      "Kappa for PubMed: 0.6\n"
     ]
    }
   ],
   "source": [
    "# Add your code here:\n",
    "\n",
    "kappa_google = cohen_kappa_score(assessment1_google,assessment2_google)\n",
    "#kappa_semantic = ...\n",
    "kappa_pubmed = cohen_kappa_score(assessment1_pubmed,assessment2_pubmed)\n",
    "\n",
    "print(\"Kappa for Google Scholar:\", kappa_google)\n",
    "#print(\"Kappa for Semantic Scholar:\", kappa_semantic)\n",
    "print(\"Kappa for PubMed:\", kappa_pubmed)"
   ]
  },
  {
   "cell_type": "markdown",
   "metadata": {},
   "source": [
    "Explain whether the agreement can be considered high or not, based on the interpretation table on [this Wikipedia page](https://en.wikipedia.org/wiki/Fleiss'_kappa#Interpretation) (this Wikipedia page is about a different type of kappa but the interpretation table can also be used for Cohen's kappa)."
   ]
  },
  {
   "cell_type": "markdown",
   "metadata": {},
   "source": [
    "**Answer:** Both Cohen's Kappa score fall between the range of 0.4-0.6 in which would be considered 'Moderate agreement'. Therefore, the agreement is not highly, I think its better to fall between the range of 0.61 – 0.80 which would be considered 'Substantial agreement'. Furthermore, it is said that 0.75 indicates a good agreement, so we should have an score of at least 0.75 to considered it high and 0.9 would be the preferred score."
   ]
  },
  {
   "cell_type": "markdown",
   "metadata": {},
   "source": [
    "### Task 5\n",
    "\n",
    "Define a function called `precision_at_n` that calculates Precision@n as described in the lecture slides, which takes as input an assessment list and a value for _n_ and returns the respective Precision@n value. Run this function to calculate Precision@10 (that is, n=10) on all four assessments (two assessors and two search engines)."
   ]
  },
  {
   "cell_type": "code",
   "execution_count": 19,
   "metadata": {},
   "outputs": [
    {
     "name": "stdout",
     "output_type": "stream",
     "text": [
      "0.6\n",
      "0.8\n",
      "0.5\n",
      "0.7\n"
     ]
    }
   ],
   "source": [
    "# Add your code here:\n",
    "\n",
    "def precision_at_n(assessment_list, n=10):\n",
    "#    ...\n",
    "    num_of_relevant_docs = 0\n",
    "    for elem in assessment_list[:n]:\n",
    "        if elem == 1:\n",
    "            num_of_relevant_docs +=1\n",
    "    \n",
    "    num_of_non_relevant_docs = n - num_of_relevant_docs\n",
    "    #--\n",
    "    return (num_of_relevant_docs / (num_of_relevant_docs + num_of_non_relevant_docs ))\n",
    "    \n",
    "        \n",
    "\n",
    "\n",
    "\n",
    "# Print out Precision@10 for all assessments here.\n",
    "print(precision_at_n(assessment1_google))\n",
    "print(precision_at_n(assessment2_google))\n",
    "print(precision_at_n(assessment1_pubmed))\n",
    "print(precision_at_n(assessment2_pubmed))"
   ]
  },
  {
   "cell_type": "markdown",
   "metadata": {},
   "source": [
    "Explain what these specific Precision@10 results tell us (or don't tell us) about the quality of the two search engines for your particular information need. You can also refer to the results of Task 4 if necessary."
   ]
  },
  {
   "cell_type": "markdown",
   "metadata": {},
   "source": [
    "**Answer:** It is quite interesting as the Kappa score was higher for PubMed than Scholar Google, hence we had the idea that PubMed was retrieving more relevant documents to the users, however using Precision we can see that the scores from Scholar Google are 0.1 better in both lists. Hence, we need to decided which evaluation to consider either the agreement between users or the the ratio of true positives out of all retrieved documents. Personally, as far as I understood the lecture, I would prefer Cohen's Kappa as it takes out the agreement by chance while precision it does not. Furthermore, those precision values do not take into account the results of the other user which might explain why precision values are higher for Scholar Google than for PubMed."
   ]
  },
  {
   "cell_type": "markdown",
   "metadata": {},
   "source": [
    "# Submission"
   ]
  },
  {
   "cell_type": "markdown",
   "metadata": {},
   "source": [
    "Submit the answers to the assignment via Canvas as a modified version of this Notebook file (file with `.ipynb` extension) that includes your code and your answers.\n",
    "\n",
    "Before submitting, restart the kernel and re-run the complete code (**Kernel > Restart & Run All**), and then check whether your assignment code still works as expected.\n",
    "\n",
    "Don't forget to add your name, and remember that the assignments have to be done **individually**, and that code sharing or copying are **strictly forbidden** and will be punished."
   ]
  }
 ],
 "metadata": {
  "kernelspec": {
   "display_name": "Python 3 (ipykernel)",
   "language": "python",
   "name": "python3"
  },
  "language_info": {
   "codemirror_mode": {
    "name": "ipython",
    "version": 3
   },
   "file_extension": ".py",
   "mimetype": "text/x-python",
   "name": "python",
   "nbconvert_exporter": "python",
   "pygments_lexer": "ipython3",
   "version": "3.11.4"
  }
 },
 "nbformat": 4,
 "nbformat_minor": 1
}
