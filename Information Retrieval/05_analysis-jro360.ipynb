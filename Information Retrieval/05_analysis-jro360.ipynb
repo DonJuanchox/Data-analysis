{
 "cells": [
  {
   "cell_type": "markdown",
   "metadata": {},
   "source": [
    "# Assignment 5: Link Analysis"
   ]
  },
  {
   "cell_type": "markdown",
   "metadata": {},
   "source": [
    "In this assignment, we will use network-based algorithms, such as PageRank, to improve our search results. After the last assignment on evaluating IR systems, we go back to our PubMed dataset of scientific papers. In this dataset, we look at two graphs in particular: the co-authorship network and the citation network.\n",
    "\n",
    "The citation network is similar to the link network of the web: Citations are like web links pointing to other documents. We can therefore apply the same network-based ranking methods."
   ]
  },
  {
   "cell_type": "markdown",
   "metadata": {},
   "source": [
    "## Code from previous assignments"
   ]
  },
  {
   "cell_type": "code",
   "execution_count": 1,
   "metadata": {},
   "outputs": [],
   "source": [
    "import pickle, bz2\n",
    "from collections import defaultdict, namedtuple, Counter\n",
    "from math import log10, sqrt\n",
    "from IPython.display import display, HTML\n",
    "import matplotlib.pyplot as plt\n",
    "\n",
    "# show plots inline within the notebook\n",
    "%matplotlib inline\n",
    "# set plots' resolution\n",
    "plt.rcParams['savefig.dpi'] = 100"
   ]
  },
  {
   "cell_type": "code",
   "execution_count": 2,
   "metadata": {},
   "outputs": [],
   "source": [
    "Ids_file = 'fungus_Ids.pkl.bz2'\n",
    "Summaries_file = 'fungus_Summaries.pkl.bz2'\n",
    "Citations_file = 'fungus_Citations.pkl.bz2'\n",
    "Abstracts_file = 'fungus_Abstracts.pkl.bz2'\n",
    "\n",
    "Ids = pickle.load( bz2.BZ2File( Ids_file, 'rb' ) )\n",
    "Summaries = pickle.load( bz2.BZ2File( Summaries_file, 'rb' ) )\n",
    "Citations = pickle.load( bz2.BZ2File( Citations_file, 'rb' ) )\n",
    "Abstracts = pickle.load( bz2.BZ2File( Abstracts_file, 'rb' ) )\n",
    "\n",
    "paper = namedtuple( 'paper', ['title', 'authors', 'year', 'doi'] )\n",
    "\n",
    "for (id, paper_info) in Summaries.items():\n",
    "    Summaries[id] = paper( *paper_info )"
   ]
  },
  {
   "cell_type": "code",
   "execution_count": 3,
   "metadata": {},
   "outputs": [],
   "source": [
    "def display_summary( id, show_abstract=False, show_id=True, extra_text='' ):\n",
    "    \"\"\"\n",
    "    Function for printing a paper's summary through IPython's Rich Display System.\n",
    "    Trims long author lists, and adds a link to the paper's DOI (when available).\n",
    "    \"\"\"\n",
    "    s = Summaries[id]\n",
    "    lines = []\n",
    "    title = s.title\n",
    "    if s.doi != '':\n",
    "        title = '<a href=http://dx.doi.org/{:s}>{:s}</a>'.format(s.doi, title)\n",
    "    title = '<strong>' + title + '</strong>'\n",
    "    lines.append(title)\n",
    "    authors = ', '.join( s.authors[:20] ) + ('' if len(s.authors) <= 20 else ', ...')\n",
    "    lines.append(str(s.year) + '. ' + authors)\n",
    "    if (show_abstract):\n",
    "        lines.append('<small><strong>Abstract:</strong> <em>{:s}</em></small>'.format(Abstracts[id]))\n",
    "    if (show_id):\n",
    "        lines.append('[ID: {:d}]'.format(id))\n",
    "    if (extra_text != ''):\n",
    "         lines.append(extra_text)\n",
    "    display( HTML('<br>'.join(lines)) )"
   ]
  },
  {
   "cell_type": "code",
   "execution_count": 4,
   "metadata": {},
   "outputs": [],
   "source": [
    "def tokenize(text):\n",
    "    return text.split(' ')\n",
    "\n",
    "def preprocess(tokens):\n",
    "    result = []\n",
    "    for token in tokens:\n",
    "        result.append(token.lower())\n",
    "    return result"
   ]
  },
  {
   "cell_type": "code",
   "execution_count": 5,
   "metadata": {},
   "outputs": [],
   "source": [
    "inverted_index = defaultdict(list)\n",
    "\n",
    "for id in sorted(Summaries.keys()):\n",
    "    term_set = set(preprocess(tokenize(Summaries[id].title)))\n",
    "    if id in Abstracts:\n",
    "        term_set.update(preprocess(tokenize(Abstracts[id])))\n",
    "    for term in term_set:\n",
    "        inverted_index[term].append(id)\n",
    "\n",
    "tf_matrix = defaultdict(Counter)\n",
    "\n",
    "for doc_id in Summaries.keys():\n",
    "    tokens = preprocess(tokenize(Summaries[doc_id].title))\n",
    "    if (doc_id in Abstracts):\n",
    "        tokens.extend(preprocess(tokenize(Abstracts[doc_id])))\n",
    "    tf_matrix[doc_id] = Counter(tokens)\n",
    "\n",
    "def tf(t,d):\n",
    "    return float(tf_matrix[d][t])\n",
    "\n",
    "def df(t):\n",
    "    return float(len(inverted_index[t]))\n",
    "\n",
    "num_documents = float(len(Summaries))\n",
    "\n",
    "def idf(t):\n",
    "    return log10((num_documents + 1)/(df(t) + 1))\n",
    "\n",
    "def tfidf(t,d):\n",
    "    return tf(t,d) * idf(t)"
   ]
  },
  {
   "cell_type": "markdown",
   "metadata": {},
   "source": [
    "## Co-authorship network"
   ]
  },
  {
   "cell_type": "markdown",
   "metadata": {},
   "source": [
    "We start by building a mapping from authors to the set of identifiers of papers they authored.  We'll be using Python sets again for that purpose."
   ]
  },
  {
   "cell_type": "code",
   "execution_count": 6,
   "metadata": {},
   "outputs": [],
   "source": [
    "papers_of_author = defaultdict(set)\n",
    "\n",
    "for (id, p) in Summaries.items():\n",
    "    for a in p.authors:\n",
    "        papers_of_author[a].add(id)"
   ]
  },
  {
   "cell_type": "markdown",
   "metadata": {},
   "source": [
    "Let's try it out:"
   ]
  },
  {
   "cell_type": "code",
   "execution_count": 7,
   "metadata": {},
   "outputs": [
    {
     "data": {
      "text/plain": [
       "{25154107, 28425998, 29491409, 30868671}"
      ]
     },
     "execution_count": 7,
     "metadata": {},
     "output_type": "execute_result"
    }
   ],
   "source": [
    "papers_of_author['Canessa S']"
   ]
  },
  {
   "cell_type": "code",
   "execution_count": 8,
   "metadata": {},
   "outputs": [
    {
     "data": {
      "text/html": [
       "<strong><a href=http://dx.doi.org/10.1038/s41598-018-22225-9>Post-epizootic salamander persistence in a disease-free refugium suggests poor dispersal ability of Batrachochytrium salamandrivorans.</a></strong><br>2018. Spitzen-van der Sluijs A, Stegen G, Bogaerts S, Canessa S, Steinfartz S, Janssen N, Bosman W, Pasmans F, Martel A<br>[ID: 29491409]"
      ],
      "text/plain": [
       "<IPython.core.display.HTML object>"
      ]
     },
     "metadata": {},
     "output_type": "display_data"
    },
    {
     "data": {
      "text/html": [
       "<strong><a href=http://dx.doi.org/10.1890/13-0103.1>Designing screening protocols for amphibian disease that account for imperfect and variable capture rates of individuals.</a></strong><br>2014. Canessa S, Martel A, Pasmans F<br>[ID: 25154107]"
      ],
      "text/plain": [
       "<IPython.core.display.HTML object>"
      ]
     },
     "metadata": {},
     "output_type": "display_data"
    },
    {
     "data": {
      "text/html": [
       "<strong><a href=http://dx.doi.org/10.1038/nature22059>Drivers of salamander extirpation mediated by Batrachochytrium salamandrivorans.</a></strong><br>2017. Stegen G, Pasmans F, Schmidt BR, Rouffaer LO, Van Praet S, Schaub M, Canessa S, Laudelout A, Kinet T, Adriaensen C, Haesebrouck F, Bert W, Bossuyt F, Martel A<br>[ID: 28425998]"
      ],
      "text/plain": [
       "<IPython.core.display.HTML object>"
      ]
     },
     "metadata": {},
     "output_type": "display_data"
    },
    {
     "data": {
      "text/html": [
       "<strong><a href=http://dx.doi.org/10.1111/cobi.13313>Quantifying the burden of managing wildlife diseases in multiple host species.</a></strong><br>2019. Canessa S, Bozzuto C, Pasmans F, Martel A<br>[ID: 30868671]"
      ],
      "text/plain": [
       "<IPython.core.display.HTML object>"
      ]
     },
     "metadata": {},
     "output_type": "display_data"
    }
   ],
   "source": [
    "for id in papers_of_author['Canessa S']:\n",
    "    display_summary(id)"
   ]
  },
  {
   "cell_type": "markdown",
   "metadata": {},
   "source": [
    "We can now build a co-authorship network, that is a graph linking authors to the set of co-authors they have published with:"
   ]
  },
  {
   "cell_type": "code",
   "execution_count": 9,
   "metadata": {},
   "outputs": [],
   "source": [
    "coauthors = defaultdict(set)\n",
    "\n",
    "for p in Summaries.values():\n",
    "    for a in p.authors:\n",
    "        coauthors[a].update(p.authors)\n",
    "\n",
    "# The code above results in each author being listed as having co-authored with himself/herself.\n",
    "# We remove these self-references here:\n",
    "for (a, ca) in coauthors.items():\n",
    "    ca.remove(a)"
   ]
  },
  {
   "cell_type": "markdown",
   "metadata": {},
   "source": [
    "And let's try it out again:"
   ]
  },
  {
   "cell_type": "code",
   "execution_count": 10,
   "metadata": {},
   "outputs": [
    {
     "name": "stdout",
     "output_type": "stream",
     "text": [
      "Stegen G, Rouffaer LO, Bossuyt F, Bosman W, Schaub M, Van Praet S, Steinfartz S, Bogaerts S, Kinet T, Pasmans F, Martel A, Haesebrouck F, Schmidt BR, Bert W, Bozzuto C, Spitzen-van der Sluijs A, Janssen N, Adriaensen C, Laudelout A\n"
     ]
    }
   ],
   "source": [
    "print(', '.join( coauthors['Canessa S'] ))"
   ]
  },
  {
   "cell_type": "markdown",
   "metadata": {},
   "source": [
    "Unlike a citation or link network, the edges of this co-authorship network are not directed: There is no direction (no arrow) in the link between author 'Canessa S' and 'Schmidt BR', for example. With our chosen implementation, each of these links in fact appears twice in our data, as we also get 'Canessa S' as co-author when we look for 'Schmidt BR':"
   ]
  },
  {
   "cell_type": "code",
   "execution_count": 11,
   "metadata": {},
   "outputs": [
    {
     "name": "stdout",
     "output_type": "stream",
     "text": [
      "Ducatelle R, Shelton JMG, Wombwell E, Waldman B, Gower DJ, Kolby JE, Blooi M, Fisher MC, Smith F, Toledo LF, Hintz WE, Courtois EA, Zamudio KR, Ghosh P, Bates KA, Sheafor B, Martin MD, Böll S, Nguyen TT, Van Praet S, Doherty-Bone TM, Loyau A, Cunningham AA, Lips KR, Kinet T, Sabino-Pinto J, Woodhams DC, Spikmans F, Salvidio S, Bert W, Webb RJ, Spitzen-van der Sluijs A, Garner TW, Weldon C, Adriaensen C, Briggs CJ, Kerres A, Brookes L, Brankovics B, Stegen G, Bales EK, Minting P, Cashins S, Grassly NC, Doddington BJ, James TY, Veith M, Borgula A, Garner TWJ, Kosch TA, Canessa S, Murray KA, Kirst K, Haesebrouck F, Balloux F, Valenzuela-Sánchez A, Verster R, Fumagalli M, Tobler U, Jenkinson TS, Schmeller DS, Rouffaer LO, Geiger CC, Puschendorf R, Van Bocxlaer I, Vences M, Lin CF, O'Hanlon SJ, Garcia G, Rieux A, Nöllert A, Farrer RA, Meurling S, Spagnoletti M, Tessa G, Speybroeck J, Skerratt LF, Miaud C, Marin da Fonte LF, Oliver JA, Van Rooij P, Lauer A, Pasmans F, Laurila A, Bletz MC, Gilbert MTP, Wierzbicki C, Davis LR, Goka K, Ohlhoff D, Muths E, Bataille A, Voyles J, Lötters S, Bossuyt F, Vörös J, Wales N, Clare F, Schaub M, Wagner N, Höglund J, Steinfartz S, Bosch J, Muletz C, Nishikawa K, Soto-Azat C, Martel A, Goverse E, Alvarado-Rybak M, Beukema W, Bozzuto C, Asselberghs J, Aanensen DM, Berger L, Rosa GM, Dalbeck L, Laudelout A\n"
     ]
    }
   ],
   "source": [
    "print(', '.join( coauthors['Schmidt BR'] ))"
   ]
  },
  {
   "cell_type": "markdown",
   "metadata": {},
   "source": [
    "With that in mind, we can calculate some basic statistics about our graph:"
   ]
  },
  {
   "cell_type": "code",
   "execution_count": 12,
   "metadata": {},
   "outputs": [
    {
     "name": "stdout",
     "output_type": "stream",
     "text": [
      "Number of nodes (authors):  120759\n",
      "Number of links (co-authorship relations):  708774\n"
     ]
    }
   ],
   "source": [
    "print('Number of nodes (authors): ', len(coauthors))\n",
    "\n",
    "# We divide by two here to account for the fact that each edge is represented twice (see above):\n",
    "coauthor_rel_count = int(sum( len(c) for c in coauthors.values() ) / 2)\n",
    "print('Number of links (co-authorship relations): ', coauthor_rel_count)"
   ]
  },
  {
   "cell_type": "markdown",
   "metadata": {},
   "source": [
    "With this data at hand, we can plot the [degree distribution](https://en.wikipedia.org/wiki/Degree_distribution) by showing the number of collaborators a scientist has published with:"
   ]
  },
  {
   "cell_type": "code",
   "execution_count": 13,
   "metadata": {},
   "outputs": [
    {
     "data": {
      "image/png": "[encoded data removed]",
      "text/plain": [
       "<Figure size 432x288 with 1 Axes>"
      ]
     },
     "metadata": {
      "needs_background": "light"
     },
     "output_type": "display_data"
    }
   ],
   "source": [
    "plt.hist( x=[ len(ca) for ca in coauthors.values() ], bins=range(60) )\n",
    "plt.xlabel('number of co-authors')\n",
    "plt.ylabel('number of researchers')\n",
    "plt.xlim(0,51);"
   ]
  },
  {
   "cell_type": "markdown",
   "metadata": {},
   "source": [
    "Now that we have explored this network, let's move to the citation network."
   ]
  },
  {
   "cell_type": "markdown",
   "metadata": {},
   "source": [
    "## Citations network"
   ]
  },
  {
   "cell_type": "markdown",
   "metadata": {},
   "source": [
    "Next, we can look at the citation network. In contrast to the co-authorship network, the citation network is a _directed_ network, where edges can be drawn as arrows. We'll start by expanding the our data about citations into two mappings: \n",
    "\n",
    "* `papers_citing[id]`: papers citing a given paper\n",
    "* `cited_by[id]`: papers cited by a given paper (in other words: its list of references)\n",
    "\n",
    "`papers_citing` will give us the list of a node's incoming links, whereas `cited_by` will give us the list of its outgoing links."
   ]
  },
  {
   "cell_type": "code",
   "execution_count": 14,
   "metadata": {},
   "outputs": [],
   "source": [
    "papers_citing = Citations  # no changes needed, this is what we are storing already in the Citations dataset\n",
    "\n",
    "cited_by = defaultdict(list)\n",
    "\n",
    "for ref, papers_citing_ref in papers_citing.items():\n",
    "    for id in papers_citing_ref:\n",
    "        cited_by[ id ].append( ref )"
   ]
  },
  {
   "cell_type": "markdown",
   "metadata": {},
   "source": [
    "As we are dealing with a subset of the data (the papers mentioning \"fungus\"), `papers_citing` can contain references to papers outside of our subset. On the other hand, the way we created `cited_by`, it will only contain backward references from within our dataset, meaning that it is incomplete with respect to the whole dataset. Nethertheless, we can use this citation network on our subset of fungus-related papers to implement link analysis techniques.\n",
    "\n",
    "Let us now look at an exemplary paper, let's say the one with identifier 29907567. We can now use the `cited_by` mapping to retrieve its (incomplete) list of references:"
   ]
  },
  {
   "cell_type": "code",
   "execution_count": 15,
   "metadata": {},
   "outputs": [
    {
     "name": "stdout",
     "output_type": "stream",
     "text": [
      "3 references found for paper 29907567\n"
     ]
    },
    {
     "data": {
      "text/plain": [
       "{29588468: 'Ras hyperactivation versus overexpression: Lessons from Ras dynamics in Candida albicans.',\n",
       " 15302823: 'Ectopic expression of URA3 can influence the virulence phenotypes and proteome of Candida albicans but can be overcome by targeted reintegration of URA3 at the RPS10 locus.',\n",
       " 11722734: 'Ras links cellular morphogenesis to virulence by regulation of the MAP kinase and cAMP signalling pathways in the pathogenic fungus Candida albicans.'}"
      ]
     },
     "execution_count": 15,
     "metadata": {},
     "output_type": "execute_result"
    }
   ],
   "source": [
    "paper_id = 29907567\n",
    "refs = { id : Summaries[id].title for id in cited_by[paper_id] }\n",
    "print(len(refs), 'references found for paper', paper_id)\n",
    "refs"
   ]
  },
  {
   "cell_type": "markdown",
   "metadata": {},
   "source": [
    "If we lookup the same paper in `papers_citing`, we now see that some of the cited papers are themselves in our dataset, but others are not (shown below as `'??'`):"
   ]
  },
  {
   "cell_type": "code",
   "execution_count": 16,
   "metadata": {},
   "outputs": [
    {
     "data": {
      "text/plain": [
       "{32102426: 'The Role of Secretory Pathways in <i>Candida albicans</i> Pathogenesis.',\n",
       " 31440220: '??',\n",
       " 31186458: '??'}"
      ]
     },
     "execution_count": 16,
     "metadata": {},
     "output_type": "execute_result"
    }
   ],
   "source": [
    "{ id : Summaries.get(id,['??'])[0]  for id in papers_citing[paper_id] }"
   ]
  },
  {
   "cell_type": "markdown",
   "metadata": {},
   "source": [
    "Paper 31186458, for example, is not in our dataset and we do not have any direct information about it, but its repeated occurrence in other papers' citation lists does allow us to reconstruct some of its references. Below is the list of papers in our dataset cited by that paper:"
   ]
  },
  {
   "cell_type": "code",
   "execution_count": 17,
   "metadata": {},
   "outputs": [
    {
     "name": "stdout",
     "output_type": "stream",
     "text": [
      "4 references identified for the paper with id 31186458\n"
     ]
    },
    {
     "data": {
      "text/plain": [
       "{29907567: 'Ras signaling activates glycosylphosphatidylinositol (GPI) anchor biosynthesis via the GPI-<i>N</i>-acetylglucosaminyltransferase (GPI-GnT) in <i>Candida albicans</i>.',\n",
       " 15470093: 'Deficiencies in the essential Smp3 mannosyltransferase block glycosylphosphatidylinositol assembly and lead to defects in growth and cell wall biogenesis in Candida albicans.',\n",
       " 15302823: 'Ectopic expression of URA3 can influence the virulence phenotypes and proteome of Candida albicans but can be overcome by targeted reintegration of URA3 at the RPS10 locus.',\n",
       " 12101300: 'GPI7 affects cell-wall protein anchorage in Saccharomyces cerevisiae and Candida albicans.'}"
      ]
     },
     "execution_count": 17,
     "metadata": {},
     "output_type": "execute_result"
    }
   ],
   "source": [
    "paper_id2 = 31186458\n",
    "refs2 = { id : Summaries[id].title for id in cited_by[paper_id2] }\n",
    "print(len(refs2), 'references identified for the paper with id', paper_id2)\n",
    "refs2"
   ]
  },
  {
   "cell_type": "markdown",
   "metadata": {},
   "source": [
    "Now that we have a better understanding about the data we're dealing with, let us obtain again some basic statistics about our graph."
   ]
  },
  {
   "cell_type": "code",
   "execution_count": 18,
   "metadata": {},
   "outputs": [
    {
     "name": "stdout",
     "output_type": "stream",
     "text": [
      "Number of papers in our subset: 54751 (100.00 %)\n",
      "Number of papers cited at least once: 39069 (71.36 %)\n",
      "Number of isolated nodes:  13506 (24.67 %)\n"
     ]
    }
   ],
   "source": [
    "n = len(Ids)\n",
    "print('Number of papers in our subset: {:d} ({:.2f} %)'.format(n, 100.0) )\n",
    "\n",
    "with_citation = [ id for id in Ids if papers_citing[id] != [] ]\n",
    "with_citation_rel = 100. * len(with_citation) / n\n",
    "print('Number of papers cited at least once: {:d} ({:.2f} %)'.format(len(with_citation), with_citation_rel) )\n",
    "\n",
    "isolated = set( id for id in Ids if papers_citing[id] == [] and id not in cited_by )\n",
    "isolated_rel = 100. * len(isolated) / n\n",
    "print('Number of isolated nodes:  {:d} ({:.2f} %)'.format(len(isolated), isolated_rel) )"
   ]
  },
  {
   "cell_type": "code",
   "execution_count": 19,
   "metadata": {},
   "outputs": [
    {
     "name": "stdout",
     "output_type": "stream",
     "text": [
      "Overall number of nodes: 163671 (100.00 %)\n",
      "Number of non-isolated nodes: 150165 (91.75 %)\n",
      "Number of nodes outside our subset: 108920 (66.55 %)\n"
     ]
    }
   ],
   "source": [
    "id_set = set( Ids )\n",
    "citing_set = set( cited_by.keys() )\n",
    "\n",
    "outsiders = citing_set - id_set   # set difference\n",
    "nodes = citing_set | id_set   # set union\n",
    "non_isolated = nodes - isolated   # set difference\n",
    "\n",
    "print('Overall number of nodes: {:d} ({:.2f} %)'.format(len(nodes), 100.0) )\n",
    "\n",
    "non_isolated_rel = 100. * len(non_isolated) / len(nodes)\n",
    "print('Number of non-isolated nodes: {:d} ({:.2f} %)'.format(len(non_isolated), non_isolated_rel) )\n",
    "\n",
    "outsiders_rel = 100. * len(outsiders) / len(nodes)\n",
    "print('Number of nodes outside our subset: {:d} ({:.2f} %)'.format( len(outsiders), outsiders_rel ) )"
   ]
  },
  {
   "cell_type": "code",
   "execution_count": 20,
   "metadata": {},
   "outputs": [
    {
     "name": "stdout",
     "output_type": "stream",
     "text": [
      "Overall number of links (citations): 377535 (100.00 %)\n",
      "Citations outside the subset: 278998 (73.90 %)\n"
     ]
    }
   ],
   "source": [
    "all_citations = [ c for citing in papers_citing.values() for c in citing ]\n",
    "outsider_citations = [ c for citing in papers_citing.values() for c in citing if c in outsiders ]\n",
    "\n",
    "print('Overall number of links (citations): {:d} ({:.2f} %)'.format(len(all_citations), 100.0) )\n",
    "\n",
    "outsider_citations_rel = 100. * len(outsider_citations) / len(all_citations)\n",
    "print('Citations outside the subset: {:d} ({:.2f} %)'.format(len(outsider_citations), outsider_citations_rel) )"
   ]
  },
  {
   "cell_type": "markdown",
   "metadata": {},
   "source": [
    "Let us now find our which 10 papers are the most cited in our dataset."
   ]
  },
  {
   "cell_type": "code",
   "execution_count": 21,
   "metadata": {},
   "outputs": [
    {
     "data": {
      "text/html": [
       "<strong><a href=http://dx.doi.org/10.1002/yea.320101310>New heterologous modules for classical or PCR-based gene disruptions in Saccharomyces cerevisiae.</a></strong><br>1994. Wach A, Brachat A, Pöhlmann R, Philippsen P<br>[ID: 7747518]<br>Citation count: 1065"
      ],
      "text/plain": [
       "<IPython.core.display.HTML object>"
      ]
     },
     "metadata": {},
     "output_type": "display_data"
    },
    {
     "data": {
      "text/html": [
       "<strong>Aspergillus fumigatus and aspergillosis.</strong><br>1999. Latgé JP<br>[ID: 10194462]<br>Citation count: 572"
      ],
      "text/plain": [
       "<IPython.core.display.HTML object>"
      ]
     },
     "metadata": {},
     "output_type": "display_data"
    },
    {
     "data": {
      "text/html": [
       "<strong><a href=http://dx.doi.org/10.1038/nature01554>The genome sequence of the filamentous fungus Neurospora crassa.</a></strong><br>2003. Galagan JE, Calvo SE, Borkovich KA, Selker EU, Read ND, Jaffe D, FitzHugh W, Ma LJ, Smirnov S, Purcell S, Rehman B, Elkins T, Engels R, Wang S, Nielsen CB, Butler J, Endrizzi M, Qui D, Ianakiev P, Bell-Pedersen D, ...<br>[ID: 12712197]<br>Citation count: 517"
      ],
      "text/plain": [
       "<IPython.core.display.HTML object>"
      ]
     },
     "metadata": {},
     "output_type": "display_data"
    },
    {
     "data": {
      "text/html": [
       "<strong><a href=http://dx.doi.org/10.1111/j.1364-3703.2011.00783.x>The Top 10 fungal pathogens in molecular plant pathology.</a></strong><br>2012. Dean R, Van Kan JA, Pretorius ZA, Hammond-Kosack KE, Di Pietro A, Spanu PD, Rudd JJ, Dickman M, Kahmann R, Ellis J, Foster GD<br>[ID: 22471698]<br>Citation count: 509"
      ],
      "text/plain": [
       "<IPython.core.display.HTML object>"
      ]
     },
     "metadata": {},
     "output_type": "display_data"
    },
    {
     "data": {
      "text/html": [
       "<strong><a href=http://dx.doi.org/10.1073/pnas.0601456103>A high-throughput gene knockout procedure for Neurospora reveals functions for multiple transcription factors.</a></strong><br>2006. Colot HV, Park G, Turner GE, Ringelberg C, Crew CM, Litvinkova L, Weiss RL, Borkovich KA, Dunlap JC<br>[ID: 16801547]<br>Citation count: 462"
      ],
      "text/plain": [
       "<IPython.core.display.HTML object>"
      ]
     },
     "metadata": {},
     "output_type": "display_data"
    },
    {
     "data": {
      "text/html": [
       "<strong><a href=http://dx.doi.org/10.1038/nature08358>Genome sequence and analysis of the Irish potato famine pathogen Phytophthora infestans.</a></strong><br>2009. Haas BJ, Kamoun S, Zody MC, Jiang RH, Handsaker RE, Cano LM, Grabherr M, Kodira CD, Raffaele S, Torto-Alalibo T, Bozkurt TO, Ah-Fong AM, Alvarado L, Anderson VL, Armstrong MR, Avrova A, Baxter L, Beynon J, Boevink PC, Bollmann SR, ...<br>[ID: 19741609]<br>Citation count: 443"
      ],
      "text/plain": [
       "<IPython.core.display.HTML object>"
      ]
     },
     "metadata": {},
     "output_type": "display_data"
    },
    {
     "data": {
      "text/html": [
       "<strong><a href=http://dx.doi.org/10.1038/nature08652>High-performance genetically targetable optical neural silencing by light-driven proton pumps.</a></strong><br>2010. Chow BY, Han X, Dobry AS, Qian X, Chuong AS, Li M, Henninger MA, Belfort GM, Lin Y, Monahan PE, Boyden ES<br>[ID: 20054397]<br>Citation count: 441"
      ],
      "text/plain": [
       "<IPython.core.display.HTML object>"
      ]
     },
     "metadata": {},
     "output_type": "display_data"
    },
    {
     "data": {
      "text/html": [
       "<strong><a href=http://dx.doi.org/10.1038/nature04332>Genomic sequence of the pathogenic and allergenic filamentous fungus Aspergillus fumigatus.</a></strong><br>2005. Nierman WC, Pain A, Anderson MJ, Wortman JR, Kim HS, Arroyo J, Berriman M, Abe K, Archer DB, Bermejo C, Bennett J, Bowyer P, Chen D, Collins M, Coulsen R, Davies R, Dyer PS, Farman M, Fedorova N, Fedorova N, ...<br>[ID: 16372009]<br>Citation count: 428"
      ],
      "text/plain": [
       "<IPython.core.display.HTML object>"
      ]
     },
     "metadata": {},
     "output_type": "display_data"
    },
    {
     "data": {
      "text/html": [
       "<strong><a href=http://dx.doi.org/10.1038/nature03449>The genome sequence of the rice blast fungus Magnaporthe grisea.</a></strong><br>2005. Dean RA, Talbot NJ, Ebbole DJ, Farman ML, Mitchell TK, Orbach MJ, Thon M, Kulkarni R, Xu JR, Pan H, Read ND, Lee YH, Carbone I, Brown D, Oh YY, Donofrio N, Jeong JS, Soanes DM, Djonovic S, Kolomiets E, ...<br>[ID: 15846337]<br>Citation count: 421"
      ],
      "text/plain": [
       "<IPython.core.display.HTML object>"
      ]
     },
     "metadata": {},
     "output_type": "display_data"
    },
    {
     "data": {
      "text/html": [
       "<strong><a href=http://dx.doi.org/10.1073/pnas.88.16.7160>A constant rate of spontaneous mutation in DNA-based microbes.</a></strong><br>1991. Drake JW<br>[ID: 1831267]<br>Citation count: 417"
      ],
      "text/plain": [
       "<IPython.core.display.HTML object>"
      ]
     },
     "metadata": {},
     "output_type": "display_data"
    }
   ],
   "source": [
    "citation_count_per_paper = [ (id, len(citations)) for (id,citations) in papers_citing.items() ]\n",
    "sorted_by_citation_count = sorted(citation_count_per_paper, key=lambda i:i[1], reverse=True)\n",
    "\n",
    "for (id, c) in sorted_by_citation_count[:10]:\n",
    "    display_summary(id, extra_text = 'Citation count: ' + str(c))"
   ]
  },
  {
   "cell_type": "markdown",
   "metadata": {},
   "source": [
    "Before we can start calculating some interesting network metrics, we will first have a closer look at the Python package that we are going to use for that."
   ]
  },
  {
   "cell_type": "markdown",
   "metadata": {},
   "source": [
    "## Link Analysis for Search Engines"
   ]
  },
  {
   "cell_type": "markdown",
   "metadata": {},
   "source": [
    "In order to use the citation network, we need to be able to perform some complex graph algorithms on it. To make our lives easier, we will use [NetworkX](https://pypi.python.org/pypi/networkx), a Python package for dealing with complex networks:"
   ]
  },
  {
   "cell_type": "code",
   "execution_count": 22,
   "metadata": {},
   "outputs": [
    {
     "name": "stdout",
     "output_type": "stream",
     "text": [
      "Requirement already satisfied: networkx in c:\\users\\juann\\anaconda3\\lib\\site-packages (2.4)\n",
      "Requirement already satisfied: decorator>=4.3.0 in c:\\users\\juann\\anaconda3\\lib\\site-packages (from networkx) (4.4.1)\n"
     ]
    }
   ],
   "source": [
    "! pip install --user networkx"
   ]
  },
  {
   "cell_type": "code",
   "execution_count": 23,
   "metadata": {},
   "outputs": [],
   "source": [
    "import networkx as nx\n",
    "\n",
    "G = nx.DiGraph(cited_by)"
   ]
  },
  {
   "cell_type": "markdown",
   "metadata": {},
   "source": [
    "We now have a NetworkX Directed Graph stored in `G`, where a node represents a paper, and an edge represents a citation. This means we can now apply the [algorithms](http://networkx.github.io/documentation/networkx-1.10/reference/algorithms.html) and [functions](http://networkx.github.io/documentation/networkx-1.10/reference/functions.html) of NetworkX to our graph:"
   ]
  },
  {
   "cell_type": "code",
   "execution_count": 24,
   "metadata": {},
   "outputs": [
    {
     "name": "stdout",
     "output_type": "stream",
     "text": [
      "Name: \n",
      "Type: DiGraph\n",
      "Number of nodes: 150165\n",
      "Number of edges: 377535\n",
      "Average in degree:   2.5141\n",
      "Average out degree:   2.5141\n",
      "Directed graph: True\n",
      "Density of graph: 1.6742591114399504e-05\n"
     ]
    }
   ],
   "source": [
    "print(nx.info(G))\n",
    "print('Directed graph:', nx.is_directed(G))\n",
    "print('Density of graph:', nx.density(G))"
   ]
  },
  {
   "cell_type": "markdown",
   "metadata": {},
   "source": [
    "As this graph was generated from citations only, we need to add all isolated nodes (nodes that are not cited and do not cite other papers) as well:"
   ]
  },
  {
   "cell_type": "code",
   "execution_count": 25,
   "metadata": {},
   "outputs": [],
   "source": [
    "G.add_nodes_from(isolated)"
   ]
  },
  {
   "cell_type": "markdown",
   "metadata": {},
   "source": [
    "And now we get slightly different values:"
   ]
  },
  {
   "cell_type": "code",
   "execution_count": 26,
   "metadata": {},
   "outputs": [
    {
     "name": "stdout",
     "output_type": "stream",
     "text": [
      "Name: \n",
      "Type: DiGraph\n",
      "Number of nodes: 163671\n",
      "Number of edges: 377535\n",
      "Average in degree:   2.3067\n",
      "Average out degree:   2.3067\n",
      "Directed graph: True\n",
      "Density of graph: 1.4093420224626821e-05\n"
     ]
    }
   ],
   "source": [
    "print(nx.info(G))\n",
    "print('Directed graph:', nx.is_directed(G))\n",
    "print('Density of graph:', nx.density(G))"
   ]
  },
  {
   "cell_type": "markdown",
   "metadata": {},
   "source": [
    "Now we are ready to use this package for our tasks."
   ]
  },
  {
   "cell_type": "markdown",
   "metadata": {},
   "source": [
    "----------"
   ]
  },
  {
   "cell_type": "markdown",
   "metadata": {},
   "source": [
    "# Tasks"
   ]
  },
  {
   "cell_type": "markdown",
   "metadata": {},
   "source": [
    "**Your name:** Juan Rodriguez Peinado"
   ]
  },
  {
   "cell_type": "markdown",
   "metadata": {},
   "source": [
    "### Task 1\n",
    "\n",
    "Plot the in-degree distribution (that is, the distribution of the number of incoming links; see [here](https://en.wikipedia.org/wiki/Degree_distribution) and [here](http://mathinsight.org/degree_distribution) for more detailed explanations) for the citation network. What can you tell about the shape of this distribution, and what does this tell us about the network?"
   ]
  },
  {
   "cell_type": "code",
   "execution_count": 27,
   "metadata": {},
   "outputs": [
    {
     "data": {
      "image/png": "[encoded data removed]",
      "text/plain": [
       "<Figure size 432x288 with 1 Axes>"
      ]
     },
     "metadata": {
      "needs_background": "light"
     },
     "output_type": "display_data"
    }
   ],
   "source": [
    "plt.hist( x=[ len(paper) for paper in papers_citing.values() ], bins=range(1,55) )\n",
    "plt.xlabel('number of nodes')\n",
    "plt.ylabel('number of edges')\n",
    "plt.xlim(0,55);"
   ]
  },
  {
   "cell_type": "markdown",
   "metadata": {},
   "source": [
    "**Answer:** We can observe that few nodes (hub) contain many incoming links, while many nodes contain few incoming links. By the looks of the graph, is similar to an exponential decay as the number decreases at a reate proportional to its current value"
   ]
  },
  {
   "cell_type": "markdown",
   "metadata": {},
   "source": [
    "### Task 2\n",
    "\n",
    "Using the [Link Analysis](https://networkx.github.io/documentation/networkx-1.10/reference/algorithms.link_analysis.html) algorithms provided by NetworkX, calculate the PageRank score for all nodes in the citation network, and store the result in a variable called `pageranks`. You can also use the `pagerank_scipy` implementation, which tends to be considerably faster than its regular `pagerank` counterpart, for which you have to install the [SciPy package](http://scipy.org/):"
   ]
  },
  {
   "cell_type": "code",
   "execution_count": 28,
   "metadata": {},
   "outputs": [
    {
     "name": "stdout",
     "output_type": "stream",
     "text": [
      "Requirement already satisfied: scipy in c:\\users\\juann\\anaconda3\\lib\\site-packages (1.4.1)\n",
      "Requirement already satisfied: numpy>=1.13.3 in c:\\users\\juann\\anaconda3\\lib\\site-packages (from scipy) (1.18.1)\n"
     ]
    }
   ],
   "source": [
    "! pip install --user scipy"
   ]
  },
  {
   "cell_type": "markdown",
   "metadata": {},
   "source": [
    "To test this, create first a list of all papers that are cited by exactly 10 other papers (using `papers_citing` defined above). Then sort these papers by their PageRank and retrieve the paper IDs with the maximum and minimum PageRank values. Print these minimum and maximum PageRank values together with their paper IDs.\n",
    "\n",
    "To print PageRank values, you might want to use commands like `print('{:.6f}'.format(var))` to use regular decimal notation with a fixed number of decimal places."
   ]
  },
  {
   "cell_type": "code",
   "execution_count": 29,
   "metadata": {},
   "outputs": [
    {
     "name": "stdout",
     "output_type": "stream",
     "text": [
      "Max PageRank value: 0.000119, paper ID: 1936991\n",
      "Max PageRank value: 0.000004, paper ID: 26718720\n"
     ]
    }
   ],
   "source": [
    "# use this:\n",
    "#pageranks = nx.pagerank(G)\n",
    "# or this:\n",
    "pageranks = nx.pagerank_scipy(G)\n",
    "\n",
    "# Add your code here\n",
    "citation_10_per_paper = [ (id) for (id,citations) in papers_citing.items() if len(citations) == 10 ]\n",
    "sorted_10_per_paper = sorted(citation_10_per_paper, key = lambda x: pageranks[x], reverse = True)\n",
    "\n",
    "id_max_score = sorted_10_per_paper[0]\n",
    "id_min_score = sorted_10_per_paper[-1]\n",
    "\n",
    "max_score = pageranks.get(id_max_score)\n",
    "min_score = pageranks.get(id_min_score)\n",
    "\n",
    "print ('Max PageRank value: ' + '{:.6f}'.format(max_score) + ', paper ID:', id_max_score )\n",
    "print ('Max PageRank value: ' + '{:.6f}'.format(min_score) + ', paper ID:', id_min_score )\n"
   ]
  },
  {
   "cell_type": "markdown",
   "metadata": {},
   "source": [
    "### Task 3\n",
    "\n",
    "Why do the two papers above have such different PageRank values? Write code below to investigate and show the cause of this, and then explain the cause of this difference based on the results generated by your code."
   ]
  },
  {
   "cell_type": "markdown",
   "metadata": {},
   "source": [
    "**Answer:** We know that each page is based on two values: authority (links pointing to the page) and hub value (links departing from the page),\n",
    "given that we can trace back to the code given before in which we can obtain the number of papers in which an ID is being cited.\n",
    "So we can go back and get the scores of the authorities.\n",
    "\n"
   ]
  },
  {
   "cell_type": "code",
   "execution_count": 30,
   "metadata": {},
   "outputs": [
    {
     "name": "stdout",
     "output_type": "stream",
     "text": [
      "paper ID: 31988806 number of references 24 with a Pagerank score: 0.000003\n",
      "paper ID: 31052334 number of references 53 with a Pagerank score: 0.000003\n",
      "paper ID: 23341415 number of references 17 with a Pagerank score: 0.000003\n",
      "paper ID: 22901238 number of references 1 with a Pagerank score: 0.000003\n",
      "paper ID: 18575630 number of references 8 with a Pagerank score: 0.000014\n",
      "paper ID: 14665453 number of references 8 with a Pagerank score: 0.000003\n",
      "paper ID: 9315680 number of references 4 with a Pagerank score: 0.000003\n",
      "paper ID: 8889518 number of references 8 with a Pagerank score: 0.000003\n",
      "paper ID: 8416986 number of references 2 with a Pagerank score: 0.000243\n",
      "paper ID: 8336695 number of references 2 with a Pagerank score: 0.000020\n"
     ]
    }
   ],
   "source": [
    "incoming_links_max = { id : Summaries.get(id,['??'])[0] for id in papers_citing[id_max_score]}\n",
    "for paper in incoming_links_max:\n",
    "    score_max = pageranks.get(paper)\n",
    "    num_of_refernces = { id : Summaries[id].title for id in cited_by[paper]}\n",
    "    print('paper ID:', paper,'number of references', len(num_of_refernces),'with a Pagerank score: ' + '{:.6f}'.format(score_max))\n",
    "\n"
   ]
  },
  {
   "cell_type": "code",
   "execution_count": 31,
   "metadata": {},
   "outputs": [
    {
     "name": "stdout",
     "output_type": "stream",
     "text": [
      "paper ID: 32670213 number of references 46 with a Pagerank score: 0.000003\n",
      "paper ID: 32457242 number of references 28 with a Pagerank score: 0.000003\n",
      "paper ID: 31801308 number of references 43 with a Pagerank score: 0.000003\n",
      "paper ID: 31376081 number of references 17 with a Pagerank score: 0.000003\n",
      "paper ID: 30972301 number of references 27 with a Pagerank score: 0.000003\n",
      "paper ID: 30669450 number of references 20 with a Pagerank score: 0.000003\n",
      "paper ID: 29237832 number of references 19 with a Pagerank score: 0.000004\n",
      "paper ID: 29186149 number of references 25 with a Pagerank score: 0.000004\n",
      "paper ID: 27891121 number of references 35 with a Pagerank score: 0.000004\n",
      "paper ID: 27814394 number of references 22 with a Pagerank score: 0.000006\n"
     ]
    }
   ],
   "source": [
    "incoming_links_min = { id : Summaries.get(id,['??'])[0] for id in papers_citing[id_min_score]}\n",
    "for paper in incoming_links_min:\n",
    "    score_min = pageranks.get(paper)\n",
    "    num_of_refernces = { id : Summaries[id].title for id in cited_by[paper]}\n",
    "    print('paper ID:', paper,'number of references', len(num_of_refernces),'with a Pagerank score: ' + '{:.6f}'.format(score_min))"
   ]
  },
  {
   "cell_type": "markdown",
   "metadata": {
    "collapsed": true
   },
   "source": [
    "**Answer:**  But the numbers of papers that are pointing you are just a mere part of the score, we need to know for each paper the hub and the authority score, and in that way we could understand why there is such a gap between these to papers even if they have the same amount of incoming links."
   ]
  },
  {
   "cell_type": "markdown",
   "metadata": {},
   "source": [
    "### Task 4\n",
    "\n",
    "Copy the scoring function `score_ntn_nnn` from Task 4 of assignment 3. Rename it to `score_ntn_nnn_pagerank` and change its code to incorporate a paper's PageRank score in it's final score, in addition to tf-idf. In other words, the new function should accept a `list` of query tokens and a document ID, and should return a single `float` value that is calculated based on both scores (PageRank and tf-idf). Note that a `tf-idf` function is already provided above. Explain your decision on how to combine the two scores."
   ]
  },
  {
   "cell_type": "code",
   "execution_count": 32,
   "metadata": {},
   "outputs": [],
   "source": [
    "def score_ntn_nnn_pagerank(query_words, doc_id):\n",
    "    result = 0\n",
    "    #-\n",
    "    for i in query_words:\n",
    "        score = tfidf(i,doc_id)\n",
    "        #result += 2*(score * pageranks.get(doc_id)) / (score + pageranks.get(doc_id))\n",
    "        result += score * pageranks.get(doc_id)\n",
    "    #-\n",
    "    return (result)\n"
   ]
  },
  {
   "cell_type": "markdown",
   "metadata": {
    "collapsed": true
   },
   "source": [
    "**Answer:** I have decided to get the product of tfidf and pagerank as it looks the only way to obtain scores that are not relatively high, none of them scores 1 or more, we know that tfidf cannot reflect the link information among pages while pagerank does not consider the content of pages. So it might be a good idea to obtain the dot product of both scores. The first formula which is commented, is just obtained from stockoverflow and honestly I have no clue why it has been writen like that. "
   ]
  },
  {
   "cell_type": "markdown",
   "metadata": {},
   "source": [
    "### Task 5\n",
    "\n",
    "Copy the query function `query_ntn_nnn` from Task 4 of assignment 3 (also copy `or_merge`). Rename it to `query_ntn_nnn_pagerank` and change the code to use our new scoring function `score_ntn_nnn_pagerank` from task 4 above. Demonstrate these functions with an example query that returns paper 19741609 as the top result."
   ]
  },
  {
   "cell_type": "code",
   "execution_count": 33,
   "metadata": {},
   "outputs": [
    {
     "name": "stdout",
     "output_type": "stream",
     "text": [
      "[(0.014543419636024266, 19741609), (0.002405381175351156, 7972108), (0.0012072573207918583, 11571180), (0.0006201254906755811, 16578829), (0.0005373657069846041, 9885189), (0.0004575915528794751, 11891250), (0.00041088803398998844, 25735453), (0.0003405312209981428, 8673343), (0.00033697950154878834, 16662850), (0.00032060790253910973, 18643983)]\n"
     ]
    },
    {
     "data": {
      "text/html": [
       "<strong><a href=http://dx.doi.org/10.1038/nature08358>Genome sequence and analysis of the Irish potato famine pathogen Phytophthora infestans.</a></strong><br>2009. Haas BJ, Kamoun S, Zody MC, Jiang RH, Handsaker RE, Cano LM, Grabherr M, Kodira CD, Raffaele S, Torto-Alalibo T, Bozkurt TO, Ah-Fong AM, Alvarado L, Anderson VL, Armstrong MR, Avrova A, Baxter L, Beynon J, Boevink PC, Bollmann SR, ...<br><small><strong>Abstract:</strong> <em>Phytophthora infestans is the most destructive pathogen of potato and a model organism for the oomycetes, a distinct lineage of fungus-like eukaryotes that are related to organisms such as brown algae and diatoms. As the agent of the Irish potato famine in the mid-nineteenth century, P. infestans has had a tremendous effect on human history, resulting in famine and population displacement. To this day, it affects world agriculture by causing the most destructive disease of potato, the fourth largest food crop and a critical alternative to the major cereal crops for feeding the world's population. Current annual worldwide potato crop losses due to late blight are conservatively estimated at $6.7 billion. Management of this devastating pathogen is challenged by its remarkable speed of adaptation to control strategies such as genetically resistant cultivars. Here we report the sequence of the P. infestans genome, which at approximately 240 megabases (Mb) is by far the largest and most complex genome sequenced so far in the chromalveolates. Its expansion results from a proliferation of repetitive DNA accounting for approximately 74% of the genome. Comparison with two other Phytophthora genomes showed rapid turnover and extensive expansion of specific families of secreted disease effector proteins, including many genes that are induced during infection or are predicted to have activities that alter host physiology. These fast-evolving effector genes are localized to highly dynamic and expanded regions of the P. infestans genome. This probably plays a crucial part in the rapid adaptability of the pathogen to host plants and underpins its evolutionary potential.</em></small><br>[ID: 19741609]"
      ],
      "text/plain": [
       "<IPython.core.display.HTML object>"
      ]
     },
     "metadata": {},
     "output_type": "display_data"
    },
    {
     "name": "stdout",
     "output_type": "stream",
     "text": [
      "Total score is 0.014543419636024266\n"
     ]
    },
    {
     "data": {
      "text/html": [
       "<strong><a href=http://dx.doi.org/10.1073/pnas.91.24.11591>Panglobal distribution of a single clonal lineage of the Irish potato famine fungus.</a></strong><br>1994. Goodwin SB, Cohen BA, Fry WE<br><small><strong>Abstract:</strong> <em>More than 300 isolates of the Irish potato famine fungus, Phytophthora infestans, collected in 20 countries on five continents, were analyzed for genetic variation at the mating type and two allozyme loci. A subset of more than 200 isolates was also analyzed for DNA \"fingerprint\" variation. A surprising result was that a single clonal lineage dominated most populations worldwide. All of the variation within this lineage appeared to have arisen by mitotic recombination or by mutation. In addition to the most common clonal lineage, a number of different, but apparently closely related, lineages occurred in the United States and Canada. The low levels of gene diversity in the derived populations compared to the presumed ancestral population in central Mexico indicate that P. infestans went through extreme genetic bottlenecks during its dispersal. The genetic data are consistent with the hypothesis that the initial migration of P. infestans in the 1840s was from Mexico to the United States and that only a single genetic individual was transported to Europe and subsequently to the rest of the world. If this hypothesis is correct, then the Irish potato famine was caused by a single clonal genotype of P. infestans.</em></small><br>[ID: 7972108]"
      ],
      "text/plain": [
       "<IPython.core.display.HTML object>"
      ]
     },
     "metadata": {},
     "output_type": "display_data"
    },
    {
     "name": "stdout",
     "output_type": "stream",
     "text": [
      "Total score is 0.002405381175351156\n"
     ]
    },
    {
     "data": {
      "text/html": [
       "<strong><a href=http://dx.doi.org/10.1128/aem.67.10.4742-4751.2001>Bulk and rhizosphere soil bacterial communities studied by denaturing gradient gel electrophoresis: plant-dependent enrichment and seasonal shifts revealed.</a></strong><br>2001. Smalla K, Wieland G, Buchner A, Zock A, Parzy J, Kaiser S, Roskot N, Heuer H, Berg G<br><small><strong>Abstract:</strong> <em>The bacterial rhizosphere communities of three host plants of the pathogenic fungus Verticillium dahliae, field-grown strawberry (Fragaria ananassa Duch.), oilseed rape (Brassica napus L.), and potato (Solanum tuberosum L.), were analyzed. We aimed to determine the degree to which the rhizosphere effect is plant dependent and whether this effect would be increased by growing the same crops in two consecutive years. Rhizosphere or soil samples were taken five times over the vegetation periods. To allow a cultivation-independent analysis, total community DNA was extracted from the microbial pellet recovered from root or soil samples. 16S rDNA fragments amplified by PCR from soil or rhizosphere bacterium DNA were analyzed by denaturing gradient gel electrophoresis (DGGE). The DGGE fingerprints showed plant-dependent shifts in the relative abundance of bacterial populations in the rhizosphere which became more pronounced in the second year. DGGE patterns of oilseed rape and potato rhizosphere communities were more similar to each other than to the strawberry patterns. In both years seasonal shifts in the abundance and composition of the bacterial rhizosphere populations were observed. Independent of the plant species, the patterns of the first sampling times for both years were characterized by the absence of some of the bands which became dominant at the following sampling times. Bacillus megaterium and Arthrobacter sp. were found as predominant populations in bulk soils. Sequencing of dominant bands excised from the rhizosphere patterns revealed that 6 out of 10 bands resembled gram-positive bacteria. Nocardia populations were identified as strawberry-specific bands.</em></small><br>[ID: 11571180]"
      ],
      "text/plain": [
       "<IPython.core.display.HTML object>"
      ]
     },
     "metadata": {},
     "output_type": "display_data"
    },
    {
     "name": "stdout",
     "output_type": "stream",
     "text": [
      "Total score is 0.0012072573207918583\n"
     ]
    },
    {
     "data": {
      "text/html": [
       "<strong><a href=http://dx.doi.org/10.1073/pnas.85.3.782>Several \"pathogenesis-related\" proteins in potato are 1,3-beta-glucanases and chitinases.</a></strong><br>1988. Kombrink E, Schröder M, Hahlbrock K<br><small><strong>Abstract:</strong> <em>Chitinase {poly[1,4-(N-acetyl-beta-D-glucosaminide)]glycanohydrolase, EC 3.2.1.14} and 1,3-beta-glucanase (1,3-beta-D-glucan 3-glucanohydrolase, EC 3.2.1.6) activities increased rapidly in potato (Solanum tuberosum) leaves inoculated with the pathogenic fungus Phytophthora infestans or treated with fungal elicitor. The enzyme activities were resolved into a total of two distinct 1,3-beta-glucanases and six proteins with chitinase activity. By several criteria, all of these proteins are classified as \"pathogenesis-related\" proteins whose biochemical functions have so far been unknown. Some of them constitute a major portion of the proteins accumulating in the intercellular space of infected potato leaves and are assumed to play an important role in pathogen defense.</em></small><br>[ID: 16578829]"
      ],
      "text/plain": [
       "<IPython.core.display.HTML object>"
      ]
     },
     "metadata": {},
     "output_type": "display_data"
    },
    {
     "name": "stdout",
     "output_type": "stream",
     "text": [
      "Total score is 0.0006201254906755811\n"
     ]
    },
    {
     "data": {
      "text/html": [
       "<strong><a href=http://dx.doi.org/10.1094/MPMI.1999.12.1.16>Snakin-1, a peptide from potato that is active against plant pathogens.</a></strong><br>1999. Segura A, Moreno M, Madueño F, Molina A, García-Olmedo F<br><small><strong>Abstract:</strong> <em>A new type of antimicrobial peptide, snakin-1 (SN1), has been isolated from potato tubers and found to be active, at concentrations < 10 microM, against bacterial and fungal pathogens from potato and other plant species. The action of SN1 and potato defensin PTH1 was synergistic against the bacterium Clavibacter michiganensis subsp. sepedonicus and additive against the fungus Botrytis cinerea. Snakin-1 causes aggregation of both gram-positive and gram-negative bacteria. The peptide has 63 amino acid residues (M(r) 6,922), 12 of which are cysteines, and is unrelated to any previously isolated protein, although it is homologous to amino acid sequences deduced from cloned cDNAs that encode gibberellin-inducible mRNAs and has some sequence motifs in common with kistrin and other hemotoxic snake venoms. A degenerate oligonucleotide probe based on the internal sequence CCEECKC has been used to clone an SN1 cDNA. With the cDNA used as probe, one copy of the StSN1 gene per haploid genome has been estimated and expression of the gene has been detected in tubers, stems, axillary buds, and young floral buds. Expression levels in petals and carpels from fully developed flowers were much higher than in sepals and stamens. The expression pattern of gene StSN1 suggests that protein SN1 may be a component of constitutive defense barriers, especially those of storage and reproductive plant organs.</em></small><br>[ID: 9885189]"
      ],
      "text/plain": [
       "<IPython.core.display.HTML object>"
      ]
     },
     "metadata": {},
     "output_type": "display_data"
    },
    {
     "name": "stdout",
     "output_type": "stream",
     "text": [
      "Total score is 0.0005373657069846041\n"
     ]
    },
    {
     "data": {
      "text/html": [
       "<strong><a href=http://dx.doi.org/10.1104/pp.010685>Snakin-2, an antimicrobial peptide from potato whose gene is locally induced by wounding and responds to pathogen infection.</a></strong><br>2002. Berrocal-Lobo M, Segura A, Moreno M, López G, García-Olmedo F, Molina A<br><small><strong>Abstract:</strong> <em>The peptide snakin-2 (StSN2) has been isolated from potato (Solanum tuberosum cv Jaerla) tubers and found to be active (EC(50) = 1-20 microM) against fungal and bacterial plant pathogens. It causes a rapid aggregation of both Gram-positive and Gram-negative bacteria. The corresponding StSN2 cDNA encodes a signal sequence followed by a 15-residue acidic sequence that precedes the mature StSN2 peptide, which is basic (isoelectric point = 9.16) and 66 amino acid residues long (molecular weight of 7,025). The StSN2 gene is developmentally expressed in tubers, stems, flowers, shoot apex, and leaves, but not in roots, or stolons, and is locally up-regulated by wounding and by abscisic acid treatment. Expression of this gene is also up-regulated after infection of potato tubers with the compatible fungus Botritys cinerea and down-regulated by the virulent bacteria Ralstonia solanacearum and Erwinia chrysanthemi. These observations are congruent with the hypothesis that the StSN2 is a component of both constitutive and inducible defense barriers.</em></small><br>[ID: 11891250]"
      ],
      "text/plain": [
       "<IPython.core.display.HTML object>"
      ]
     },
     "metadata": {},
     "output_type": "display_data"
    },
    {
     "name": "stdout",
     "output_type": "stream",
     "text": [
      "Total score is 0.0004575915528794751\n"
     ]
    },
    {
     "data": {
      "text/html": [
       "<strong><a href=http://dx.doi.org/10.1111/jipb.12348>Overexpression of potato miR482e enhanced plant sensitivity to Verticillium dahliae infection.</a></strong><br>2015. Yang L, Mu X, Liu C, Cai J, Shi K, Zhu W, Yang Q<br><small><strong>Abstract:</strong> <em>Verticillium wilt of potato is caused by the fungus pathogen Verticillium dahliae. Present sRNA sequencing data revealed that miR482 was in response to V. dahliae infection, but the function in potato is elusive. Here, we characterized potato miR482 family and its putative role resistance to Verticillium wilt. Members of the potato miR482 superfamily are variable in sequence, but all variants target a class of disease-resistance proteins with nucleotide binding site (NBS) and leucine-rich repeat (LRR) motifs. When potato plantlets were infected with V. dahliae, the expression level of miR482e was downregulated, and that of several NBS-LRR targets of miR482e were upregulated. Transgenic potato plantlets overexpressing miR482e showed hypersensitivity to V. dahliae infection. Using sRNA and degradome datasets, we validated that miR482e targets mRNAs of NBS-LRR disease-resistance proteins and triggers the production of trans-acting (ta)-siRNAs, most of which target mRNAs of defense-related proteins. Thus, the hypersensitivity of transgenic potato could be explained by enhanced miR482e and miR482e-derived ta-siRNA-mediated silencing on NBS-LRR-disease-resistance proteins. It is speculated that a miR482-mediated silencing cascade mechanism is involved in regulating potato resistance against V. dahliae infection and could be a counter defense action of plant in response to pathogen infection. </em></small><br>[ID: 25735453]"
      ],
      "text/plain": [
       "<IPython.core.display.HTML object>"
      ]
     },
     "metadata": {},
     "output_type": "display_data"
    },
    {
     "name": "stdout",
     "output_type": "stream",
     "text": [
      "Total score is 0.00041088803398998844\n"
     ]
    },
    {
     "data": {
      "text/html": [
       "<strong><a href=http://dx.doi.org/10.1093/oxfordjournals.pcp.a028952>A cytosolic phospholipase A2 from potato tissues appears to be patatin.</a></strong><br>1996. Senda K, Yoshioka H, Doke N, Kawakita K<br><small><strong>Abstract:</strong> <em>Phospholipase (PL) A2 is involved in signal transduction in the resistance reaction that is induced in potato by inoculation of an incompatible race of Phytophthora infestans, the late blight fungus, or by treatment with fungal elicitor hyphal wall components (Kawakita et al. 1993). In this study, PLA2 in the soluble fraction from potato tuber was purified. The following results suggested that the enzyme was, in fact, patatin: (1) the molecular mass of the purified enzyme was 40 kDa, the same as that of patatin; (2) the pI of the purified enzyme was approximately 4.75, which corresponds to that of patatin; and (3) the amino-terminal amino acid sequence of the purified enzyme showed a high degree of homology to that of patatin. Patatin is known as a storage protein of the potato tuber and it has been shown to have esterase activity. However, other enzymatic activities and the function(s) of patatin are unknown. We investigated the PLA activities of the purified patatin. The PLA2 activity of the patatin was much higher than the PLA1 activity, even though the protein exhibited both activities. The PLA2 activity of the enzyme was particularly apparent when phosphatidylcholine with linoleic acid at the sn-2 position was used as substrate. Lower activity was observed with phosphatidylcholine with palmitic acid, oleic acid and arachidonic acid at the sn-2 position.</em></small><br>[ID: 8673343]"
      ],
      "text/plain": [
       "<IPython.core.display.HTML object>"
      ]
     },
     "metadata": {},
     "output_type": "display_data"
    },
    {
     "name": "stdout",
     "output_type": "stream",
     "text": [
      "Total score is 0.0003405312209981428\n"
     ]
    },
    {
     "data": {
      "text/html": [
       "<strong><a href=http://dx.doi.org/10.1104/pp.71.3.466>Phytoalexin Elicitor Activity of Carbohydrates from Phytophthora megasperma f.sp. glycinea and Other Sources.</a></strong><br>1983. Keen NT, Yoshikawa M, Wang MC<br><small><strong>Abstract:</strong> <em>Three unique classes of carbohydrates were isolated from the hyphal cell walls of Phytophthora megasperma f.sp. glycinea (Pmg) and compared with other substances for their activity as elicitors of the phytoalexin glyceollin in soybean tissues. Glucomannans extracted from cell walls with soybean beta-1,3-endoglucanase were purified and proved to be the most active elicitors yet reported. They were approximately 10 times more active in soybean cotyledons than the heterogeneous beta-glucan elicitor fraction extracted from Pmg walls. In addition, the glucomannan fraction gave race-specific elicitor activity in soybean hypocotyls. Pronase was found to be a suitable reagent for the mild extraction of glycopeptides from Pmg cell walls. All of the carbohydrates isolated from Pmg cell walls possessed significant elicitor activity, but other glucans, a glucomannan and mannan from other sources, were much less active. Chitin and chitosan, reported to function as elicitors in other plants, had low activity in soybean cotyledons. Arachidonic acid was inactive, despite its previously observed elicitor activity in potato tubers. The results indicated that, for Pmg, the carbohydrate elicitor most probably involved in the initiation of phytoalexinmediated defense during fungus infection of soybean plants is the glucomannan fraction liberated by endoglucanase.</em></small><br>[ID: 16662850]"
      ],
      "text/plain": [
       "<IPython.core.display.HTML object>"
      ]
     },
     "metadata": {},
     "output_type": "display_data"
    },
    {
     "name": "stdout",
     "output_type": "stream",
     "text": [
      "Total score is 0.00033697950154878834\n"
     ]
    },
    {
     "data": {
      "text/html": [
       "<strong><a href=http://dx.doi.org/10.1111/j.1365-313X.2008.03629.x>A role for inositol hexakisphosphate in the maintenance of basal resistance to plant pathogens.</a></strong><br>2008. Murphy AM, Otto B, Brearley CA, Carr JP, Hanke DE<br><small><strong>Abstract:</strong> <em>Phytic acid (myo-inositol hexakisphosphate, InsP6) is an important phosphate store and signal molecule in plants. However, low-phytate plants are being developed to minimize the negative health effects of dietary InsP6 and pollution caused by undigested InsP6 in animal waste. InsP6 levels were diminished in transgenic potato plants constitutively expressing an antisense gene sequence for myo-inositol 3-phosphate synthase (IPS, catalysing the first step in InsP6 biosynthesis) or Escherichia coli polyphosphate kinase. These plants were less resistant to the avirulent pathogen potato virus Y and the virulent pathogen tobacco mosaic virus (TMV). In Arabidopsis thaliana, mutation of the gene for the enzyme catalysing the final step of InsP6 biosynthesis (InsP5 2-kinase) also diminished InsP6 levels and enhanced susceptibility to TMV and to virulent and avirulent strains of the bacterial pathogen Pseudomonas syringae. Arabidopsis thaliana has three IPS genes (AtIPS1-3). Mutant atips2 plants were depleted in InsP6 and were hypersusceptible to TMV, turnip mosaic virus, cucumber mosaic virus and cauliflower mosaic virus as well as to the fungus Botrytis cinerea and to P. syringae. Mutant atips2 and atipk1 plants were as hypersusceptible to infection as plants unable to accumulate salicylic acid (SA) but their increased susceptibility was not due to reduced levels of SA. In contrast, mutant atips1 plants, which were also depleted in InsP6, were not compromised in resistance to pathogens, suggesting that a specific pool of InsP6 regulates defence against phytopathogens.</em></small><br>[ID: 18643983]"
      ],
      "text/plain": [
       "<IPython.core.display.HTML object>"
      ]
     },
     "metadata": {},
     "output_type": "display_data"
    },
    {
     "name": "stdout",
     "output_type": "stream",
     "text": [
      "Total score is 0.00032060790253910973\n"
     ]
    }
   ],
   "source": [
    "def tf(t,d):\n",
    "    return float(tf_matrix[d][t])\n",
    "\n",
    "def df(t):\n",
    "    return float(len(inverted_index[t]))\n",
    "\n",
    "num_documents = float(len(Summaries))\n",
    "\n",
    "def idf(t):\n",
    "    return (log10(num_documents/ (df(t))))\n",
    "    \n",
    "def tfidf(t,d):\n",
    "    #-\n",
    "    return (idf(t) * tf(t,d))\n",
    "\n",
    "\n",
    "def or_merge(sorted_list1, sorted_list2):\n",
    "    \n",
    "    list1 = list(sorted_list1)\n",
    "    list2 = list(sorted_list2)\n",
    "    #-\n",
    "    i = 0\n",
    "    j = 0\n",
    "    result = []\n",
    "    #-\n",
    "    while (i < len(list1) and j < len(list2)):\n",
    "        if list1[i] == list2[j]:\n",
    "            result.append(list1[i])\n",
    "            i +=1\n",
    "            j +=1\n",
    "        elif list1[i] <= list2[j]:\n",
    "            result.append(list1[i])\n",
    "            i += 1\n",
    "        else:\n",
    "            result.append(list2[j])\n",
    "            j += 1\n",
    "\n",
    "    remained = list1[i:] + list2[j:]\n",
    "    result.extend(remained)\n",
    "    #-\n",
    "    return (result)\n",
    "\n",
    "                   \n",
    "def or_query(a_query):\n",
    "    merge_list = []\n",
    "    merge_list = inverted_index[a_query[0]]\n",
    "    #-\n",
    "    for word in a_query[1:]:\n",
    "        merge_list = or_merge(merge_list, inverted_index[word])\n",
    "    #-\n",
    "    return (merge_list)\n",
    "\n",
    "def score_ntn_nnn_pagerank(query_words, doc_id):\n",
    "    result = 0\n",
    "    #-\n",
    "    for i in query_words:\n",
    "        score = tfidf(i,doc_id)\n",
    "        #result += 2*(score * pageranks.get(doc_id)) / (score + pageranks.get(doc_id))\n",
    "        result += score * pageranks.get(doc_id)\n",
    "   \n",
    "    return (result)\n",
    "\n",
    "def query_ntn_nnn_pagerank(query_string):\n",
    "    elem = preprocess(tokenize(query_string))\n",
    "    docs_id = or_query(elem)\n",
    "    final_result = []\n",
    "    #-\n",
    "    for doc_id in docs_id:\n",
    "        result = score_ntn_nnn_pagerank(elem, doc_id)\n",
    "        final_result .append((result, doc_id))\n",
    "    return (sorted(final_result , reverse = True)[:10])\n",
    "\n",
    "\n",
    "query = 'irish potato famine'\n",
    "search_query = query_ntn_nnn_pagerank(query)  \n",
    "\n",
    "print(search_query)\n",
    "\n",
    "for (rank,doc_id) in search_query:\n",
    "        display_summary(doc_id, show_abstract = True)\n",
    "        print('Total score is {}'.format(rank))"
   ]
  },
  {
   "cell_type": "markdown",
   "metadata": {},
   "source": [
    "# Submission"
   ]
  },
  {
   "cell_type": "markdown",
   "metadata": {},
   "source": [
    "Submit the answers to the assignment via Canvas as a modified version of this Notebook file (file with `.ipynb` extension) that includes your code and your answers.\n",
    "\n",
    "Before submitting, restart the kernel and re-run the complete code (**Kernel > Restart & Run All**), and then check whether your assignment code still works as expected.\n",
    "\n",
    "Don't forget to add your name, and remember that the assignments have to be done **individually**, and that code sharing or copying are **strictly forbidden** and will be punished."
   ]
  }
 ],
 "metadata": {
  "kernelspec": {
   "display_name": "Python 3 (ipykernel)",
   "language": "python",
   "name": "python3"
  },
  "language_info": {
   "codemirror_mode": {
    "name": "ipython",
    "version": 3
   },
   "file_extension": ".py",
   "mimetype": "text/x-python",
   "name": "python",
   "nbconvert_exporter": "python",
   "pygments_lexer": "ipython3",
   "version": "3.11.4"
  }
 },
 "nbformat": 4,
 "nbformat_minor": 1
}
