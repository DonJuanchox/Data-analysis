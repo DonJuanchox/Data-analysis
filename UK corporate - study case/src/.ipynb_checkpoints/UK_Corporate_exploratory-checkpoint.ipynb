{
 "cells": [
  {
   "cell_type": "code",
   "execution_count": 1,
   "id": "2e63b886",
   "metadata": {},
   "outputs": [],
   "source": [
    "import pathlib\n",
    "import logging\n",
    "import polars as pl\n",
    "\n",
    "# paths\n",
    "\n",
    "path = pathlib.Path(\n",
    "    r'C:\\Users\\juann\\OneDrive\\Documentos\\GitHub\\Data-analysis\\UK corporate - study case\\data')\n",
    "companies_data = path.joinpath('companies')\n",
    "filings_data = path.joinpath('filings')\n",
    "officers_owners_data = path.joinpath('officers_and_owners')\n",
    "\n",
    "# Exploratory\n",
    "companies: pl.DataFrame = pl.read_parquet(officers_owners_data.with_suffix('.parquet'))\n",
    "# remove col -> next accounts overdue, confirmation_statement_overdue, owners, officers, assets, last accounts "
   ]
  },
  {
   "cell_type": "code",
   "execution_count": 2,
   "id": "830ace0c",
   "metadata": {},
   "outputs": [
    {
     "data": {
      "text/html": [
       "<div><style>\n",
       ".dataframe > thead > tr,\n",
       ".dataframe > tbody > tr {\n",
       "  text-align: right;\n",
       "  white-space: pre-wrap;\n",
       "}\n",
       "</style>\n",
       "<small>shape: (10_519_812, 12)</small><table border=\"1\" class=\"dataframe\"><thead><tr><th>company_number</th><th>name</th><th>kind</th><th>officer_role</th><th>occupation</th><th>date</th><th>is_owner</th><th>country_of_residence</th><th>nationality</th><th>company_country</th><th>person_id</th><th>person_url</th></tr><tr><td>str</td><td>str</td><td>str</td><td>str</td><td>str</td><td>date</td><td>bool</td><td>str</td><td>str</td><td>str</td><td>i64</td><td>str</td></tr></thead><tbody><tr><td>&quot;12022282&quot;</td><td>&quot;Laurence Justin Mark&quot;</td><td>&quot;individual&quot;</td><td>&quot;Director&quot;</td><td>&quot;project manager&quot;</td><td>2019-05-29</td><td>false</td><td>&quot;United Kingdom&quot;</td><td>&quot;British&quot;</td><td>&quot;&quot;</td><td>4233524</td><td>&quot;https://corpsignals.com/person…</td></tr><tr><td>&quot;12022305&quot;</td><td>&quot;Peters Chris William&quot;</td><td>&quot;individual&quot;</td><td>&quot;Director&quot;</td><td>&quot;company director&quot;</td><td>2019-05-29</td><td>false</td><td>&quot;United Kingdom&quot;</td><td>&quot;British&quot;</td><td>&quot;&quot;</td><td>3742466</td><td>&quot;https://corpsignals.com/person…</td></tr><tr><td>&quot;12022363&quot;</td><td>&quot;Marcelo Stefanie&quot;</td><td>&quot;individual&quot;</td><td>&quot;Director&quot;</td><td>&quot;director&quot;</td><td>2019-06-30</td><td>false</td><td>&quot;Philippines&quot;</td><td>&quot;Filipino&quot;</td><td>&quot;&quot;</td><td>313465</td><td>&quot;https://corpsignals.com/person…</td></tr><tr><td>&quot;12022384&quot;</td><td>&quot;Singh Harsimran&quot;</td><td>&quot;individual&quot;</td><td>&quot;Director&quot;</td><td>&quot;retail&quot;</td><td>2019-05-29</td><td>false</td><td>&quot;England&quot;</td><td>&quot;British&quot;</td><td>&quot;&quot;</td><td>1122380</td><td>&quot;https://corpsignals.com/person…</td></tr><tr><td>&quot;12022410&quot;</td><td>&quot;Mateo Lamberto&quot;</td><td>&quot;individual&quot;</td><td>&quot;Director&quot;</td><td>&quot;director&quot;</td><td>2019-06-24</td><td>false</td><td>&quot;Philippines&quot;</td><td>&quot;Filipino&quot;</td><td>&quot;&quot;</td><td>2456488</td><td>&quot;https://corpsignals.com/person…</td></tr><tr><td>&hellip;</td><td>&hellip;</td><td>&hellip;</td><td>&hellip;</td><td>&hellip;</td><td>&hellip;</td><td>&hellip;</td><td>&hellip;</td><td>&hellip;</td><td>&hellip;</td><td>&hellip;</td><td>&hellip;</td></tr><tr><td>&quot;12658577&quot;</td><td>&quot;Heinen Patrick Moritz&quot;</td><td>&quot;individual&quot;</td><td>&quot;Director&quot;</td><td>&quot;company director&quot;</td><td>2020-06-09</td><td>false</td><td>&quot;Germany&quot;</td><td>&quot;German&quot;</td><td>&quot;&quot;</td><td>1755460</td><td>&quot;https://corpsignals.com/person…</td></tr><tr><td>&quot;12658577&quot;</td><td>&quot;Knapman Stephen Jason&quot;</td><td>&quot;individual&quot;</td><td>&quot;Director&quot;</td><td>&quot;managing director&quot;</td><td>2020-06-09</td><td>false</td><td>&quot;England&quot;</td><td>&quot;British&quot;</td><td>&quot;&quot;</td><td>1947023</td><td>&quot;https://corpsignals.com/person…</td></tr><tr><td>&quot;12658590&quot;</td><td>&quot;Sibley Tate Melton&quot;</td><td>&quot;individual&quot;</td><td>&quot;Director&quot;</td><td>&quot;carpet fitter&quot;</td><td>2020-06-09</td><td>true</td><td>&quot;United Kingdom&quot;</td><td>&quot;British&quot;</td><td>&quot;&quot;</td><td>6594353</td><td>&quot;https://corpsignals.com/person…</td></tr><tr><td>&quot;12658590&quot;</td><td>&quot;Sibley Tate&quot;</td><td>&quot;individual&quot;</td><td>&quot;&quot;</td><td>&quot;&quot;</td><td>2020-06-09</td><td>false</td><td>&quot;United Kingdom&quot;</td><td>&quot;British&quot;</td><td>&quot;&quot;</td><td>22997620</td><td>&quot;https://corpsignals.com/person…</td></tr><tr><td>&quot;12658590&quot;</td><td>&quot;Sibley Marcus James&quot;</td><td>&quot;individual&quot;</td><td>&quot;Director&quot;</td><td>&quot;carpet fitter&quot;</td><td>2020-06-09</td><td>false</td><td>&quot;United Kingdom&quot;</td><td>&quot;British&quot;</td><td>&quot;&quot;</td><td>2596981</td><td>&quot;https://corpsignals.com/person…</td></tr></tbody></table></div>"
      ],
      "text/plain": [
       "shape: (10_519_812, 12)\n",
       "┌───────────────┬──────────────┬────────────┬──────────────┬───┬─────────────┬──────────────┬───────────┬──────────────┐\n",
       "│ company_numbe ┆ name         ┆ kind       ┆ officer_role ┆ … ┆ nationality ┆ company_coun ┆ person_id ┆ person_url   │\n",
       "│ r             ┆ ---          ┆ ---        ┆ ---          ┆   ┆ ---         ┆ try          ┆ ---       ┆ ---          │\n",
       "│ ---           ┆ str          ┆ str        ┆ str          ┆   ┆ str         ┆ ---          ┆ i64       ┆ str          │\n",
       "│ str           ┆              ┆            ┆              ┆   ┆             ┆ str          ┆           ┆              │\n",
       "╞═══════════════╪══════════════╪════════════╪══════════════╪═══╪═════════════╪══════════════╪═══════════╪══════════════╡\n",
       "│ 12022282      ┆ Laurence     ┆ individual ┆ Director     ┆ … ┆ British     ┆              ┆ 4233524   ┆ https://corp │\n",
       "│               ┆ Justin Mark  ┆            ┆              ┆   ┆             ┆              ┆           ┆ signals.com/ │\n",
       "│               ┆              ┆            ┆              ┆   ┆             ┆              ┆           ┆ person…      │\n",
       "│ 12022305      ┆ Peters Chris ┆ individual ┆ Director     ┆ … ┆ British     ┆              ┆ 3742466   ┆ https://corp │\n",
       "│               ┆ William      ┆            ┆              ┆   ┆             ┆              ┆           ┆ signals.com/ │\n",
       "│               ┆              ┆            ┆              ┆   ┆             ┆              ┆           ┆ person…      │\n",
       "│ 12022363      ┆ Marcelo      ┆ individual ┆ Director     ┆ … ┆ Filipino    ┆              ┆ 313465    ┆ https://corp │\n",
       "│               ┆ Stefanie     ┆            ┆              ┆   ┆             ┆              ┆           ┆ signals.com/ │\n",
       "│               ┆              ┆            ┆              ┆   ┆             ┆              ┆           ┆ person…      │\n",
       "│ 12022384      ┆ Singh        ┆ individual ┆ Director     ┆ … ┆ British     ┆              ┆ 1122380   ┆ https://corp │\n",
       "│               ┆ Harsimran    ┆            ┆              ┆   ┆             ┆              ┆           ┆ signals.com/ │\n",
       "│               ┆              ┆            ┆              ┆   ┆             ┆              ┆           ┆ person…      │\n",
       "│ 12022410      ┆ Mateo        ┆ individual ┆ Director     ┆ … ┆ Filipino    ┆              ┆ 2456488   ┆ https://corp │\n",
       "│               ┆ Lamberto     ┆            ┆              ┆   ┆             ┆              ┆           ┆ signals.com/ │\n",
       "│               ┆              ┆            ┆              ┆   ┆             ┆              ┆           ┆ person…      │\n",
       "│ …             ┆ …            ┆ …          ┆ …            ┆ … ┆ …           ┆ …            ┆ …         ┆ …            │\n",
       "│ 12658577      ┆ Heinen       ┆ individual ┆ Director     ┆ … ┆ German      ┆              ┆ 1755460   ┆ https://corp │\n",
       "│               ┆ Patrick      ┆            ┆              ┆   ┆             ┆              ┆           ┆ signals.com/ │\n",
       "│               ┆ Moritz       ┆            ┆              ┆   ┆             ┆              ┆           ┆ person…      │\n",
       "│ 12658577      ┆ Knapman      ┆ individual ┆ Director     ┆ … ┆ British     ┆              ┆ 1947023   ┆ https://corp │\n",
       "│               ┆ Stephen      ┆            ┆              ┆   ┆             ┆              ┆           ┆ signals.com/ │\n",
       "│               ┆ Jason        ┆            ┆              ┆   ┆             ┆              ┆           ┆ person…      │\n",
       "│ 12658590      ┆ Sibley Tate  ┆ individual ┆ Director     ┆ … ┆ British     ┆              ┆ 6594353   ┆ https://corp │\n",
       "│               ┆ Melton       ┆            ┆              ┆   ┆             ┆              ┆           ┆ signals.com/ │\n",
       "│               ┆              ┆            ┆              ┆   ┆             ┆              ┆           ┆ person…      │\n",
       "│ 12658590      ┆ Sibley Tate  ┆ individual ┆              ┆ … ┆ British     ┆              ┆ 22997620  ┆ https://corp │\n",
       "│               ┆              ┆            ┆              ┆   ┆             ┆              ┆           ┆ signals.com/ │\n",
       "│               ┆              ┆            ┆              ┆   ┆             ┆              ┆           ┆ person…      │\n",
       "│ 12658590      ┆ Sibley       ┆ individual ┆ Director     ┆ … ┆ British     ┆              ┆ 2596981   ┆ https://corp │\n",
       "│               ┆ Marcus James ┆            ┆              ┆   ┆             ┆              ┆           ┆ signals.com/ │\n",
       "│               ┆              ┆            ┆              ┆   ┆             ┆              ┆           ┆ person…      │\n",
       "└───────────────┴──────────────┴────────────┴──────────────┴───┴─────────────┴──────────────┴───────────┴──────────────┘"
      ]
     },
     "execution_count": 2,
     "metadata": {},
     "output_type": "execute_result"
    }
   ],
   "source": [
    "companies"
   ]
  },
  {
   "cell_type": "code",
   "execution_count": 3,
   "id": "dde8a06a",
   "metadata": {},
   "outputs": [],
   "source": [
    "# Split data set between active and dissolved\n",
    "# overview of company types\n",
    "# We might be interested in the city\n",
    "# Incorporation date - date of cessation -> how long was the company active for"
   ]
  },
  {
   "cell_type": "code",
   "execution_count": 4,
   "id": "2b9f29ee",
   "metadata": {},
   "outputs": [],
   "source": [
    "# What kind of jobs are the most repeated\n",
    "# Nationality vs residents\n",
    "# Maybe overview per company % of employees which are not from the uk"
   ]
  },
  {
   "cell_type": "code",
   "execution_count": 5,
   "id": "daa5ff90",
   "metadata": {},
   "outputs": [
    {
     "data": {
      "text/html": [
       "<div><style>\n",
       ".dataframe > thead > tr,\n",
       ".dataframe > tbody > tr {\n",
       "  text-align: right;\n",
       "  white-space: pre-wrap;\n",
       "}\n",
       "</style>\n",
       "<small>shape: (5_428_900, 18)</small><table border=\"1\" class=\"dataframe\"><thead><tr><th>company_number</th><th>company_type</th><th>office_address</th><th>incorporation_date</th><th>jurisdiction</th><th>company_status</th><th>account_type</th><th>company_name</th><th>sic_codes</th><th>date_of_cessation</th><th>next_accounts_overdue</th><th>confirmation_statement_overdue</th><th>owners</th><th>officers</th><th>average_number_employees_during_period</th><th>current_assets</th><th>last_accounts_period_end</th><th>company_url</th></tr><tr><td>str</td><td>str</td><td>str</td><td>date</td><td>str</td><td>str</td><td>str</td><td>str</td><td>str</td><td>date</td><td>bool</td><td>bool</td><td>i64</td><td>i64</td><td>f64</td><td>f64</td><td>date</td><td>str</td></tr></thead><tbody><tr><td>&quot;13511884&quot;</td><td>&quot;Private limited company&quot;</td><td>&quot;CM20 1YS, England, Harlow, Ess…</td><td>2021-07-15</td><td>&quot;England/Wales&quot;</td><td>&quot;Dissolved&quot;</td><td>&quot;Micro Entity&quot;</td><td>&quot;Nocik Health Ltd&quot;</td><td>&quot;[86210, 86900]&quot;</td><td>2024-06-18</td><td>null</td><td>null</td><td>1</td><td>1</td><td>0.0</td><td>17602.0</td><td>2023-12-31</td><td>&quot;https://corpsignals.com/compan…</td></tr><tr><td>&quot;13511885&quot;</td><td>&quot;Private limited company&quot;</td><td>&quot;RH2 7JN, England, Reigate, Sur…</td><td>2021-07-15</td><td>&quot;England/Wales&quot;</td><td>&quot;Active&quot;</td><td>&quot;Micro Entity&quot;</td><td>&quot;Jfs Group Limited&quot;</td><td>&quot;[64203]&quot;</td><td>null</td><td>true</td><td>null</td><td>1</td><td>1</td><td>0.0</td><td>null</td><td>2022-07-31</td><td>&quot;https://corpsignals.com/compan…</td></tr><tr><td>&quot;13511887&quot;</td><td>&quot;Private limited company&quot;</td><td>&quot;RM8 1PS, England, Dagenham, 31…</td><td>2021-07-15</td><td>&quot;England/Wales&quot;</td><td>&quot;Active&quot;</td><td>&quot;Micro Entity&quot;</td><td>&quot;Samara Trading Ltd&quot;</td><td>&quot;[49320, 49410, 51102]&quot;</td><td>null</td><td>null</td><td>null</td><td>1</td><td>1</td><td>1.0</td><td>1307.0</td><td>2023-03-31</td><td>&quot;https://corpsignals.com/compan…</td></tr><tr><td>&quot;13511889&quot;</td><td>&quot;Private limited company&quot;</td><td>&quot;DA12 2RX, England, Gravesend, …</td><td>2021-07-15</td><td>&quot;England/Wales&quot;</td><td>&quot;Active&quot;</td><td>&quot;Micro Entity&quot;</td><td>&quot;Quantum Brooks Logistics Ltd&quot;</td><td>&quot;[49410, 50200, 51210, 52101]&quot;</td><td>null</td><td>null</td><td>null</td><td>2</td><td>2</td><td>2.0</td><td>236.0</td><td>2023-07-31</td><td>&quot;https://corpsignals.com/compan…</td></tr><tr><td>&quot;13511892&quot;</td><td>&quot;Private limited company&quot;</td><td>&quot;UB10 0NX, England, Hillingdon,…</td><td>2021-07-15</td><td>&quot;England/Wales&quot;</td><td>&quot;Active&quot;</td><td>&quot;Total Exemption Full&quot;</td><td>&quot;Pbkn Ltd&quot;</td><td>&quot;[56101]&quot;</td><td>null</td><td>null</td><td>null</td><td>1</td><td>1</td><td>5.0</td><td>37863.0</td><td>2023-07-31</td><td>&quot;https://corpsignals.com/compan…</td></tr><tr><td>&hellip;</td><td>&hellip;</td><td>&hellip;</td><td>&hellip;</td><td>&hellip;</td><td>&hellip;</td><td>&hellip;</td><td>&hellip;</td><td>&hellip;</td><td>&hellip;</td><td>&hellip;</td><td>&hellip;</td><td>&hellip;</td><td>&hellip;</td><td>&hellip;</td><td>&hellip;</td><td>&hellip;</td><td>&hellip;</td></tr><tr><td>&quot;15064125&quot;</td><td>&quot;Private limited by guarantee w…</td><td>&quot;HA8 7HE, England, Edgware, 9a …</td><td>2023-08-10</td><td>&quot;England/Wales&quot;</td><td>&quot;Dissolved&quot;</td><td>&quot;Null&quot;</td><td>&quot;Ashnihi Gems Limited&quot;</td><td>&quot;[47770]&quot;</td><td>2024-02-13</td><td>null</td><td>null</td><td>1</td><td>1</td><td>null</td><td>null</td><td>null</td><td>&quot;https://corpsignals.com/compan…</td></tr><tr><td>&quot;14915983&quot;</td><td>&quot;Private limited company&quot;</td><td>&quot;EC1V 2NX, England, London, Med…</td><td>2023-06-05</td><td>&quot;England/Wales&quot;</td><td>&quot;Active&quot;</td><td>&quot;&quot;</td><td>&quot;Medtechvahedi Ltd&quot;</td><td>&quot;[46460, 72110, 86102, 86210]&quot;</td><td>null</td><td>null</td><td>true</td><td>null</td><td>1</td><td>null</td><td>null</td><td>null</td><td>&quot;https://corpsignals.com/compan…</td></tr><tr><td>&quot;14964084&quot;</td><td>&quot;Private limited company&quot;</td><td>&quot;NW7 3LU, England, London, 66 H…</td><td>2023-06-27</td><td>&quot;England/Wales&quot;</td><td>&quot;Active&quot;</td><td>&quot;Null&quot;</td><td>&quot;Skixam Limited&quot;</td><td>&quot;[58290]&quot;</td><td>null</td><td>null</td><td>null</td><td>null</td><td>2</td><td>null</td><td>null</td><td>null</td><td>&quot;https://corpsignals.com/compan…</td></tr><tr><td>&quot;15073829&quot;</td><td>&quot;Private limited company&quot;</td><td>&quot;LE17 4PN, England, Lutterworth…</td><td>2023-08-15</td><td>&quot;England/Wales&quot;</td><td>&quot;Active&quot;</td><td>&quot;Total Exemption Full&quot;</td><td>&quot;H@s Property Limited&quot;</td><td>&quot;[64209]&quot;</td><td>null</td><td>null</td><td>null</td><td>null</td><td>2</td><td>null</td><td>null</td><td>null</td><td>&quot;https://corpsignals.com/compan…</td></tr><tr><td>&quot;14985615&quot;</td><td>&quot;Private limited company&quot;</td><td>&quot;PR2 9HD, England, Preston, 244…</td><td>2023-07-06</td><td>&quot;England/Wales&quot;</td><td>&quot;Active&quot;</td><td>&quot;Null&quot;</td><td>&quot;Prestige101 Limited&quot;</td><td>&quot;[70229]&quot;</td><td>null</td><td>null</td><td>null</td><td>null</td><td>4</td><td>null</td><td>null</td><td>null</td><td>&quot;https://corpsignals.com/compan…</td></tr></tbody></table></div>"
      ],
      "text/plain": [
       "shape: (5_428_900, 18)\n",
       "┌──────────────┬──────────────┬──────────────┬─────────────┬───┬─────────────┬─────────────┬─────────────┬─────────────┐\n",
       "│ company_numb ┆ company_type ┆ office_addre ┆ incorporati ┆ … ┆ average_num ┆ current_ass ┆ last_accoun ┆ company_url │\n",
       "│ er           ┆ ---          ┆ ss           ┆ on_date     ┆   ┆ ber_employe ┆ ets         ┆ ts_period_e ┆ ---         │\n",
       "│ ---          ┆ str          ┆ ---          ┆ ---         ┆   ┆ es_durin…   ┆ ---         ┆ nd          ┆ str         │\n",
       "│ str          ┆              ┆ str          ┆ date        ┆   ┆ ---         ┆ f64         ┆ ---         ┆             │\n",
       "│              ┆              ┆              ┆             ┆   ┆ f64         ┆             ┆ date        ┆             │\n",
       "╞══════════════╪══════════════╪══════════════╪═════════════╪═══╪═════════════╪═════════════╪═════════════╪═════════════╡\n",
       "│ 13511884     ┆ Private      ┆ CM20 1YS,    ┆ 2021-07-15  ┆ … ┆ 0.0         ┆ 17602.0     ┆ 2023-12-31  ┆ https://cor │\n",
       "│              ┆ limited      ┆ England,     ┆             ┆   ┆             ┆             ┆             ┆ psignals.co │\n",
       "│              ┆ company      ┆ Harlow, Ess… ┆             ┆   ┆             ┆             ┆             ┆ m/compan…   │\n",
       "│ 13511885     ┆ Private      ┆ RH2 7JN,     ┆ 2021-07-15  ┆ … ┆ 0.0         ┆ null        ┆ 2022-07-31  ┆ https://cor │\n",
       "│              ┆ limited      ┆ England,     ┆             ┆   ┆             ┆             ┆             ┆ psignals.co │\n",
       "│              ┆ company      ┆ Reigate,     ┆             ┆   ┆             ┆             ┆             ┆ m/compan…   │\n",
       "│              ┆              ┆ Sur…         ┆             ┆   ┆             ┆             ┆             ┆             │\n",
       "│ 13511887     ┆ Private      ┆ RM8 1PS,     ┆ 2021-07-15  ┆ … ┆ 1.0         ┆ 1307.0      ┆ 2023-03-31  ┆ https://cor │\n",
       "│              ┆ limited      ┆ England,     ┆             ┆   ┆             ┆             ┆             ┆ psignals.co │\n",
       "│              ┆ company      ┆ Dagenham,    ┆             ┆   ┆             ┆             ┆             ┆ m/compan…   │\n",
       "│              ┆              ┆ 31…          ┆             ┆   ┆             ┆             ┆             ┆             │\n",
       "│ 13511889     ┆ Private      ┆ DA12 2RX,    ┆ 2021-07-15  ┆ … ┆ 2.0         ┆ 236.0       ┆ 2023-07-31  ┆ https://cor │\n",
       "│              ┆ limited      ┆ England,     ┆             ┆   ┆             ┆             ┆             ┆ psignals.co │\n",
       "│              ┆ company      ┆ Gravesend, … ┆             ┆   ┆             ┆             ┆             ┆ m/compan…   │\n",
       "│ 13511892     ┆ Private      ┆ UB10 0NX,    ┆ 2021-07-15  ┆ … ┆ 5.0         ┆ 37863.0     ┆ 2023-07-31  ┆ https://cor │\n",
       "│              ┆ limited      ┆ England,     ┆             ┆   ┆             ┆             ┆             ┆ psignals.co │\n",
       "│              ┆ company      ┆ Hillingdon,… ┆             ┆   ┆             ┆             ┆             ┆ m/compan…   │\n",
       "│ …            ┆ …            ┆ …            ┆ …           ┆ … ┆ …           ┆ …           ┆ …           ┆ …           │\n",
       "│ 15064125     ┆ Private      ┆ HA8 7HE,     ┆ 2023-08-10  ┆ … ┆ null        ┆ null        ┆ null        ┆ https://cor │\n",
       "│              ┆ limited by   ┆ England,     ┆             ┆   ┆             ┆             ┆             ┆ psignals.co │\n",
       "│              ┆ guarantee w… ┆ Edgware, 9a  ┆             ┆   ┆             ┆             ┆             ┆ m/compan…   │\n",
       "│              ┆              ┆ …            ┆             ┆   ┆             ┆             ┆             ┆             │\n",
       "│ 14915983     ┆ Private      ┆ EC1V 2NX,    ┆ 2023-06-05  ┆ … ┆ null        ┆ null        ┆ null        ┆ https://cor │\n",
       "│              ┆ limited      ┆ England,     ┆             ┆   ┆             ┆             ┆             ┆ psignals.co │\n",
       "│              ┆ company      ┆ London, Med… ┆             ┆   ┆             ┆             ┆             ┆ m/compan…   │\n",
       "│ 14964084     ┆ Private      ┆ NW7 3LU,     ┆ 2023-06-27  ┆ … ┆ null        ┆ null        ┆ null        ┆ https://cor │\n",
       "│              ┆ limited      ┆ England,     ┆             ┆   ┆             ┆             ┆             ┆ psignals.co │\n",
       "│              ┆ company      ┆ London, 66   ┆             ┆   ┆             ┆             ┆             ┆ m/compan…   │\n",
       "│              ┆              ┆ H…           ┆             ┆   ┆             ┆             ┆             ┆             │\n",
       "│ 15073829     ┆ Private      ┆ LE17 4PN,    ┆ 2023-08-15  ┆ … ┆ null        ┆ null        ┆ null        ┆ https://cor │\n",
       "│              ┆ limited      ┆ England,     ┆             ┆   ┆             ┆             ┆             ┆ psignals.co │\n",
       "│              ┆ company      ┆ Lutterworth… ┆             ┆   ┆             ┆             ┆             ┆ m/compan…   │\n",
       "│ 14985615     ┆ Private      ┆ PR2 9HD,     ┆ 2023-07-06  ┆ … ┆ null        ┆ null        ┆ null        ┆ https://cor │\n",
       "│              ┆ limited      ┆ England,     ┆             ┆   ┆             ┆             ┆             ┆ psignals.co │\n",
       "│              ┆ company      ┆ Preston,     ┆             ┆   ┆             ┆             ┆             ┆ m/compan…   │\n",
       "│              ┆              ┆ 244…         ┆             ┆   ┆             ┆             ┆             ┆             │\n",
       "└──────────────┴──────────────┴──────────────┴─────────────┴───┴─────────────┴─────────────┴─────────────┴─────────────┘"
      ]
     },
     "execution_count": 5,
     "metadata": {},
     "output_type": "execute_result"
    }
   ],
   "source": [
    "companies_data = path.joinpath('companies')\n",
    "filings_data = path.joinpath('filings')\n",
    "officers_owners_data = path.joinpath('officers_and_owners')\n",
    "\n",
    "# Exploratory\n",
    "companies: pl.DataFrame = pl.read_parquet(companies_data.with_suffix('.parquet'))\n",
    "companies"
   ]
  }
 ],
 "metadata": {
  "kernelspec": {
   "display_name": "Python 3 (ipykernel)",
   "language": "python",
   "name": "python3"
  },
  "language_info": {
   "codemirror_mode": {
    "name": "ipython",
    "version": 3
   },
   "file_extension": ".py",
   "mimetype": "text/x-python",
   "name": "python",
   "nbconvert_exporter": "python",
   "pygments_lexer": "ipython3",
   "version": "3.11.4"
  }
 },
 "nbformat": 4,
 "nbformat_minor": 5
}
