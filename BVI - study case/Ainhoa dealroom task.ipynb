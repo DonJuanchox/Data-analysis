{
 "cells": [
  {
   "cell_type": "markdown",
   "id": "0acbea47",
   "metadata": {},
   "source": [
    "Missing data for the following VC fims:\n",
    "- onmes capital\n",
    "- cathay capital\n",
    "- elaia\n",
    "- headline\n",
    "- mmc"
   ]
  },
  {
   "cell_type": "code",
   "execution_count": 1,
   "id": "adbd54a0",
   "metadata": {},
   "outputs": [],
   "source": [
    "import pandas as pd\n",
    "from pathlib import Path\n",
    "import plotly.graph_objects as go\n",
    "import plotly.express as px"
   ]
  },
  {
   "cell_type": "code",
   "execution_count": 2,
   "id": "3cf9a44a",
   "metadata": {},
   "outputs": [],
   "source": [
    "# Function to filter investors\n",
    "def investors_per_fund(x):\n",
    "    if isinstance(x, str):\n",
    "        return [investor for investor in map(str.strip, x.lower().split(';')) if investor in vc_firms]\n",
    "    return []\n",
    "\n",
    "def is_datch(x):\n",
    "    return 'DATCH' if x in {'Germany', 'Austria', 'Switzerland'} else x\n",
    "\n",
    "def is_nordic(x):\n",
    "    return 'Nordic' if x in {'Denmark', 'Sweden', 'Finland', 'Iceland', 'Norway'} else x\n",
    "\n",
    "def is_other(x):\n",
    "    return 'Others' if x not in {'DATCH', 'Nordic', 'United Kingdom', 'France', 'Spain'} else x\n",
    "\n",
    "def in_industry(x):\n",
    "    return 'Others' if x not in {'education', 'energy', 'enterprise sotfware', 'fintech',\n",
    "                                 'food', 'gaming', 'health', 'jobs recruiment', 'marketing',\n",
    "                                 'real estate', 'robotics', 'security', 'transportation',\n",
    "                                 'travel'} else x"
   ]
  },
  {
   "cell_type": "code",
   "execution_count": 3,
   "id": "b75584d8",
   "metadata": {},
   "outputs": [],
   "source": [
    "src = Path(r\"C:\\Users\\juann\\Notebook\")\n",
    "file = src / 'dealroom_batch.csv'\n",
    "df = pd.read_csv(file)"
   ]
  },
  {
   "cell_type": "code",
   "execution_count": 4,
   "id": "f1c4cbdc",
   "metadata": {},
   "outputs": [],
   "source": [
    "# List of VC firms to keep\n",
    "vc_firms = [\n",
    "    \"Eurazeo\", \"Partech\", \"Iris\", \"Omnes Capital\", \"Cathay Innovation\", \"Elaia Partners\", \"Ventech\", \"Karista\",\n",
    "    \"Headline\", \"Northzone\", \"MMC Ventures\", \"83North\", \"Octopus Ventures\", \"Felix Capital\", \"Notion Capital\",\n",
    "    \"DN Capital\", \"Dawn Capital\", \"Atlantic Bridge\", \"Creandum\", \"EQT Ventures\", \"Axa Venture Partners\"\n",
    "]\n",
    "# vc_firms = [\n",
    "#     \"HV Capital\", \"Earlybird Venture Capital\", \"Lakestar\", \"Target Global\", \"Speedinvest\", \"Cherry Ventures\", \"Picus Capital\"\n",
    "# ]\n",
    "vc_firms = [comp.lower() for comp in vc_firms]"
   ]
  },
  {
   "cell_type": "code",
   "execution_count": 5,
   "id": "a6e30cdd",
   "metadata": {},
   "outputs": [
    {
     "name": "stderr",
     "output_type": "stream",
     "text": [
      "C:\\Users\\juann\\AppData\\Local\\Temp\\ipykernel_20556\\839864116.py:18: FutureWarning: DataFrame.applymap has been deprecated. Use DataFrame.map instead.\n",
      "  df_exploded[['Client focus', 'Industries']] = df_exploded[['Client focus', 'Industries']].fillna('').applymap(lambda x: x.split(';'))\n"
     ]
    }
   ],
   "source": [
    "# Remove duplicates efficiently\n",
    "df = df.drop_duplicates(subset='Name').reset_index(drop=True)\n",
    "\n",
    "# Filter investors and explode in one step\n",
    "df['Filtered Investors'] = df['Investors'].apply(investors_per_fund)\n",
    "df_exploded = (\n",
    "    df.explode('Filtered Investors')\n",
    "    .drop(columns=['Investors'])\n",
    "    .rename(columns={'Filtered Investors': 'Investor'})\n",
    ")\n",
    "\n",
    "# Efficiently update HQ country data\n",
    "df_exploded['HQ country'] = df_exploded['HQ country'].map(is_datch)\n",
    "df_exploded['HQ country'] = df_exploded['HQ country'].map(is_nordic)\n",
    "df_exploded['HQ country'] = df_exploded['HQ country'].map(is_other)\n",
    "\n",
    "# Improved splitting logic using `.str.split()` for faster vectorized operations\n",
    "df_exploded[['Client focus', 'Industries']] = df_exploded[['Client focus', 'Industries']].fillna('').applymap(lambda x: x.split(';'))\n",
    "\n",
    "# Explode multiple columns efficiently using `.pipe()`\n",
    "df_exploded = df_exploded.pipe(lambda d: d.explode('Client focus').explode('Industries'))\n",
    "\n",
    "# df_exploded['Industries'] = df_exploded['Industries'].map(in_industry)"
   ]
  },
  {
   "cell_type": "code",
   "execution_count": 6,
   "id": "65afeeb0",
   "metadata": {},
   "outputs": [],
   "source": [
    "for values in vc_firms:\n",
    "    if values not in df_exploded['Investor'].unique():\n",
    "        print(values)"
   ]
  },
  {
   "cell_type": "code",
   "execution_count": 7,
   "id": "430bfab4",
   "metadata": {},
   "outputs": [
    {
     "name": "stderr",
     "output_type": "stream",
     "text": [
      "C:\\ProgramData\\anaconda3\\Lib\\site-packages\\plotly\\express\\_core.py:1979: FutureWarning: When grouping with a length-1 list-like, you will need to pass a length-1 tuple to get_group in a future version of pandas. Pass `(name,)` instead of `name` to silence this warning.\n",
      "  sf: grouped.get_group(s if len(s) > 1 else s[0])\n"
     ]
    }
   ],
   "source": [
    "# Geographical Scope\n",
    "grouped_df = df_exploded.groupby(['Investor', 'HQ country'], as_index=False).size()\n",
    "grouped_df.rename(columns={'size': 'Count'}, inplace=True)\n",
    "\n",
    "# Calculate the percentage relative to the total for each investor\n",
    "grouped_df['Percentage'] = grouped_df['Count'] / grouped_df.groupby('Investor')['Count'].transform('sum') * 100\n",
    "\n",
    "geo_graphic = px.bar(grouped_df, x=\"Investor\", y=\"Percentage\", color=\"HQ country\", title=\"Long-Form Input\").to_html(full_html=False, include_plotlyjs=\"cdn\")"
   ]
  },
  {
   "cell_type": "code",
   "execution_count": 8,
   "id": "0b8a9137",
   "metadata": {},
   "outputs": [
    {
     "name": "stderr",
     "output_type": "stream",
     "text": [
      "C:\\ProgramData\\anaconda3\\Lib\\site-packages\\plotly\\express\\_core.py:1979: FutureWarning:\n",
      "\n",
      "When grouping with a length-1 list-like, you will need to pass a length-1 tuple to get_group in a future version of pandas. Pass `(name,)` instead of `name` to silence this warning.\n",
      "\n"
     ]
    }
   ],
   "source": [
    "# Client focus Scope\n",
    "grouped_df = df_exploded.groupby(['Investor', 'Client focus'], as_index=False).size()\n",
    "grouped_df.rename(columns={'size': 'Count'}, inplace=True)\n",
    "\n",
    "# Calculate the percentage relative to the total for each investor\n",
    "grouped_df['Percentage'] = grouped_df['Count'] / grouped_df.groupby('Investor')['Count'].transform('sum') * 100\n",
    "\n",
    "client_foucs = px.bar(grouped_df, x=\"Investor\", y=\"Percentage\", color=\"Client focus\", title=\"Long-Form Input\").to_html(full_html=False, include_plotlyjs=\"cdn\")"
   ]
  },
  {
   "cell_type": "code",
   "execution_count": 9,
   "id": "e82cebd8",
   "metadata": {},
   "outputs": [
    {
     "name": "stderr",
     "output_type": "stream",
     "text": [
      "C:\\ProgramData\\anaconda3\\Lib\\site-packages\\plotly\\express\\_core.py:1979: FutureWarning:\n",
      "\n",
      "When grouping with a length-1 list-like, you will need to pass a length-1 tuple to get_group in a future version of pandas. Pass `(name,)` instead of `name` to silence this warning.\n",
      "\n"
     ]
    }
   ],
   "source": [
    "# Group by Investor and Industries\n",
    "grouped_df = df_exploded.groupby(['Investor', 'Industries'], as_index=False).size()\n",
    "grouped_df.rename(columns={'size': 'Count'}, inplace=True)\n",
    "\n",
    "# Calculate the percentage relative to the total for each investor\n",
    "grouped_df['Percentage'] = grouped_df['Count'] / grouped_df.groupby('Investor')['Count'].transform('sum') * 100\n",
    "\n",
    "industry = px.bar(grouped_df, x=\"Investor\", y=\"Percentage\", color=\"Industries\", title=\"Long-Form Input\").to_html(full_html=False, include_plotlyjs=\"cdn\")"
   ]
  },
  {
   "cell_type": "code",
   "execution_count": 10,
   "id": "f22b9c4c",
   "metadata": {},
   "outputs": [
    {
     "name": "stderr",
     "output_type": "stream",
     "text": [
      "C:\\ProgramData\\anaconda3\\Lib\\site-packages\\plotly\\express\\_core.py:1979: FutureWarning:\n",
      "\n",
      "When grouping with a length-1 list-like, you will need to pass a length-1 tuple to get_group in a future version of pandas. Pass `(name,)` instead of `name` to silence this warning.\n",
      "\n"
     ]
    }
   ],
   "source": [
    "# Group by Investor and Round\n",
    "grouped_df = df_exploded.groupby(['Investor', 'Round'], as_index=False).size()\n",
    "grouped_df.rename(columns={'size': 'Count'}, inplace=True)\n",
    "\n",
    "# Calculate the percentage relative to the total for each investor\n",
    "grouped_df['Percentage'] = grouped_df['Count'] / grouped_df.groupby('Investor')['Count'].transform('sum') * 100\n",
    "\n",
    "rounds = px.bar(grouped_df, x=\"Investor\", y=\"Percentage\", color=\"Round\", title=\"Long-Form Input\").to_html(full_html=False, include_plotlyjs=\"cdn\")"
   ]
  },
  {
   "cell_type": "code",
   "execution_count": 13,
   "id": "27581830",
   "metadata": {},
   "outputs": [
    {
     "data": {
      "text/plain": [
       "65963"
      ]
     },
     "execution_count": 13,
     "metadata": {},
     "output_type": "execute_result"
    }
   ],
   "source": [
    "html_content = f\"\"\"\n",
    "<!DOCTYPE html>\n",
    "<html lang=\"en\">\n",
    "<head>\n",
    "    <meta charset=\"UTF-8\">\n",
    "    <meta name=\"viewport\" content=\"width=device-width, initial-scale=1.0\">\n",
    "    <title>BBVA Navbar and Case Study</title>\n",
    "    <script src=\"https://cdn.plot.ly/plotly-latest.min.js\"></script>\n",
    "    <style>\n",
    "        body {{\n",
    "            margin: 0;\n",
    "            font-family: Arial, sans-serif;\n",
    "        }}\n",
    "        .navbar {{\n",
    "            background-color: #001F54;\n",
    "            color: white;\n",
    "            padding: 10px 20px;\n",
    "            height: 60px;\n",
    "            width: 100%;\n",
    "            box-sizing: border-box;\n",
    "        }}\n",
    "        .navbar .content {{\n",
    "            display: flex;\n",
    "            justify-content: space-between;\n",
    "            align-items: center;\n",
    "        }}\n",
    "        .navbar .content .logo {{\n",
    "            font-size: 24px;\n",
    "            font-weight: bold;\n",
    "        }}\n",
    "        .navbar .content .menu {{\n",
    "            display: flex;\n",
    "            gap: 20px;\n",
    "        }}\n",
    "        .navbar .content .menu a {{\n",
    "            color: white;\n",
    "            text-decoration: none;\n",
    "            font-size: 16px;\n",
    "            font-weight: 600;\n",
    "        }}\n",
    "        .navbar .content .menu a:hover {{\n",
    "            text-decoration: underline;\n",
    "        }}\n",
    "        .main-content {{\n",
    "            max-width: 1200px;\n",
    "            margin: 20px auto;\n",
    "            padding: 20px;\n",
    "            font-size: 16px;\n",
    "            line-height: 1.6;\n",
    "        }}\n",
    "        .main-content h1 {{\n",
    "            font-size: 24px;\n",
    "            margin-bottom: 20px;\n",
    "            color: #0033A0;\n",
    "        }}\n",
    "        .results-container {{\n",
    "            display: flex;\n",
    "            flex-wrap: nowrap; /* Prevent wrapping */\n",
    "            gap: 10px; /* Reduced gap between chart and text */\n",
    "            align-items: flex-start;\n",
    "            margin-bottom: 80px;\n",
    "        }}\n",
    "        .chart-container {{\n",
    "            flex: 1 1 auto;\n",
    "            display: flex;\n",
    "            justify-content: center;\n",
    "            align-items: center;\n",
    "        }}\n",
    "        .text-container {{\n",
    "            flex: 0 1 auto; /* Allow text to shrink if needed */\n",
    "            max-width: 40%; /* Keep the text from being too wide */\n",
    "            margin-right: 10px; /* Consistent margin on the right */\n",
    "            font-size: 16px;\n",
    "            line-height: 1.6;\n",
    "        }}\n",
    "    </style>\n",
    "</head>\n",
    "<body>\n",
    "    <div class=\"navbar\">\n",
    "        <div class=\"content\">\n",
    "            <div class=\"logo\">Bilbao Vizcaya Investments (a BBVA Group company)</div>\n",
    "        </div>\n",
    "    </div>\n",
    "    <div class=\"results-container\">\n",
    "        <div class=\"chart-container\">\n",
    "            {geo_graphic}\n",
    "        </div>\n",
    "    </div>\n",
    "    <div class=\"results-container\">\n",
    "        <div class=\"chart-container\">\n",
    "            {client_foucs}\n",
    "        </div>\n",
    "    </div>\n",
    "    <div class=\"results-container\">\n",
    "        <div class=\"chart-container\">\n",
    "            {industry}\n",
    "        </div>\n",
    "    </div>\n",
    "    <div class=\"results-container\">\n",
    "        <div class=\"chart-container\">\n",
    "            {rounds}\n",
    "        </div>\n",
    "    </div>\n",
    "</body>\n",
    "</html>\n",
    "\"\"\"\n",
    "import pathlib\n",
    "\n",
    "# Save the HTML content to a file\n",
    "html_file = pathlib.Path(r\"C:\\Users\\juann\\OneDrive\\Documentos\\GitHub\\Data-analysis\\analysis.html\")\n",
    "html_file.write_text(html_content, encoding=\"utf-8\")\n"
   ]
  },
  {
   "cell_type": "code",
   "execution_count": null,
   "id": "7c9ae956",
   "metadata": {},
   "outputs": [],
   "source": []
  }
 ],
 "metadata": {
  "kernelspec": {
   "display_name": "Python 3 (ipykernel)",
   "language": "python",
   "name": "python3"
  },
  "language_info": {
   "codemirror_mode": {
    "name": "ipython",
    "version": 3
   },
   "file_extension": ".py",
   "mimetype": "text/x-python",
   "name": "python",
   "nbconvert_exporter": "python",
   "pygments_lexer": "ipython3",
   "version": "3.11.4"
  }
 },
 "nbformat": 4,
 "nbformat_minor": 5
}
